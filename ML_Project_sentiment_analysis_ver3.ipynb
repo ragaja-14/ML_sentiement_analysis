{
  "nbformat": 4,
  "nbformat_minor": 0,
  "metadata": {
    "colab": {
      "name": "ML_Project_sentiment_analysis_ver3.ipynb",
      "provenance": [],
      "collapsed_sections": [],
      "toc_visible": true
    },
    "kernelspec": {
      "name": "python3",
      "display_name": "Python 3"
    },
    "language_info": {
      "name": "python"
    }
  },
  "cells": [
    {
      "cell_type": "code",
      "metadata": {
        "id": "jrk7nTbspyMA"
      },
      "source": [
        "import numpy as np\n",
        "import pandas as pd\n",
        "import seaborn as sns\n",
        "import plotly.graph_objects as go\n",
        "import plotly.io as pio\n",
        "import plotly.express as px\n",
        "import matplotlib.pyplot as plt\n",
        "import re,os\n",
        "\n",
        "from sklearn.feature_extraction.text import CountVectorizer\n",
        "from sklearn.linear_model import LogisticRegression\n",
        "from sklearn.metrics import accuracy_score\n",
        "from sklearn.model_selection import train_test_split"
      ],
      "execution_count": 7,
      "outputs": []
    },
    {
      "cell_type": "code",
      "metadata": {
        "id": "Vucq5YpIrr1j"
      },
      "source": [
        "dt_base= []\n",
        "for line in open('full_train.txt', 'r'):\n",
        "    \n",
        "    dt_base.append(line.strip())\n",
        "    \n",
        "dt_test_base = []\n",
        "for line in open('full_test.txt', 'r'):\n",
        "    \n",
        "    dt_test_base.append(line.strip())\n",
        "    \n",
        "target = [1 if i < 12500 else 0 for i in range(25000)]\n"
      ],
      "execution_count": 8,
      "outputs": []
    },
    {
      "cell_type": "code",
      "metadata": {
        "colab": {
          "base_uri": "https://localhost:8080/",
          "height": 199
        },
        "id": "H6v2dMa_uBYT",
        "outputId": "176b71e1-40ac-47d1-fb1a-d19b5ce2cecf"
      },
      "source": [
        "dt_base=pd.DataFrame(dt_base,columns=['Movie Review'])\n",
        "dt_base['Target']=target\n",
        "dt_test_base=pd.DataFrame(dt_test_base,columns=['Movie Review'])\n",
        "\n",
        "dt_base.head(5)"
      ],
      "execution_count": 9,
      "outputs": [
        {
          "output_type": "execute_result",
          "data": {
            "text/html": [
              "<div>\n",
              "<style scoped>\n",
              "    .dataframe tbody tr th:only-of-type {\n",
              "        vertical-align: middle;\n",
              "    }\n",
              "\n",
              "    .dataframe tbody tr th {\n",
              "        vertical-align: top;\n",
              "    }\n",
              "\n",
              "    .dataframe thead th {\n",
              "        text-align: right;\n",
              "    }\n",
              "</style>\n",
              "<table border=\"1\" class=\"dataframe\">\n",
              "  <thead>\n",
              "    <tr style=\"text-align: right;\">\n",
              "      <th></th>\n",
              "      <th>Movie Review</th>\n",
              "      <th>Target</th>\n",
              "    </tr>\n",
              "  </thead>\n",
              "  <tbody>\n",
              "    <tr>\n",
              "      <th>0</th>\n",
              "      <td>Bromwell High is a cartoon comedy. It ran at t...</td>\n",
              "      <td>1</td>\n",
              "    </tr>\n",
              "    <tr>\n",
              "      <th>1</th>\n",
              "      <td>Homelessness (or Houselessness as George Carli...</td>\n",
              "      <td>1</td>\n",
              "    </tr>\n",
              "    <tr>\n",
              "      <th>2</th>\n",
              "      <td>Brilliant over-acting by Lesley Ann Warren. Be...</td>\n",
              "      <td>1</td>\n",
              "    </tr>\n",
              "    <tr>\n",
              "      <th>3</th>\n",
              "      <td>This is easily the most underrated film inn th...</td>\n",
              "      <td>1</td>\n",
              "    </tr>\n",
              "    <tr>\n",
              "      <th>4</th>\n",
              "      <td>This is not the typical Mel Brooks film. It wa...</td>\n",
              "      <td>1</td>\n",
              "    </tr>\n",
              "  </tbody>\n",
              "</table>\n",
              "</div>"
            ],
            "text/plain": [
              "                                        Movie Review  Target\n",
              "0  Bromwell High is a cartoon comedy. It ran at t...       1\n",
              "1  Homelessness (or Houselessness as George Carli...       1\n",
              "2  Brilliant over-acting by Lesley Ann Warren. Be...       1\n",
              "3  This is easily the most underrated film inn th...       1\n",
              "4  This is not the typical Mel Brooks film. It wa...       1"
            ]
          },
          "metadata": {
            "tags": []
          },
          "execution_count": 9
        }
      ]
    },
    {
      "cell_type": "markdown",
      "metadata": {
        "id": "IOC3nDcGRlFy"
      },
      "source": [
        "### Data Cleaning and Visualization"
      ]
    },
    {
      "cell_type": "markdown",
      "metadata": {
        "id": "11eBl7S3g7Xf"
      },
      "source": [
        "**Removal of stop words using customized list of stop words** "
      ]
    },
    {
      "cell_type": "code",
      "metadata": {
        "id": "UqMEuDB-fgi_"
      },
      "source": [
        "stop_words = ['in', 'of', 'at', 'a', 'the']\n",
        "custom_stop_words = ['i', 'me', 'my', 'myself', 'we', 'our', 'ours', 'ourselves', 'you', \"you're\", \"you've\", \"you'll\", \"you'd\",\n",
        "                    'your', 'yours', 'yourself', 'yourselves', 'he', 'him', 'his', 'himself', 'she', \"she's\", 'her', 'hers', \n",
        "                    'herself', 'it', \"it's\", 'its', 'itself', 'they', 'them', 'their', 'theirs', 'themselves', 'what', 'which',\n",
        "                    'who', 'whom', 'this', 'that', \"that'll\", 'these', 'those', 'am', 'is', 'are', 'was', 'were', 'be', 'been',\n",
        "                    'being', 'have', 'has', 'had', 'having', 'do', 'does', 'did', 'doing', 'a', 'an', 'the', 'and', 'but', 'if',\n",
        "                    'or', 'because', 'as', 'until', 'while', 'of', 'at', 'by', 'for', 'with', 'about', 'against', 'between',\n",
        "                    'into', 'through', 'during', 'before', 'after', 'above', 'below', 'to', 'from', 'up', 'down', 'in', 'out',\n",
        "                    'on', 'off', 'over', 'under', 'again', 'further', 'then', 'once', 'here', 'there', 'when', 'where', 'why',\n",
        "                    'how', 'all', 'any', 'both', 'each', 'few', 'more', 'most', 'other', 'some', 'such', 'no', 'nor', 'not',\n",
        "                    'only', 'own', 'same', 'so', 'than', 'too', 'very', 's', 't', 'can', 'will', 'just', 'don', \"don't\",\n",
        "                    'should', \"should've\", 'now', 'd', 'll', 'm', 'o', 're', 've', 'y', 'ain', 'aren', \"aren't\", 'couldn',\n",
        "                    \"couldn't\", 'didn', \"didn't\", 'doesn', \"doesn't\",\"it\",\"br\" 'hadn', \"hadn't\", 'hasn', \"hasn't\", 'haven', \"haven't\",\n",
        "                    'isn', \"isn't\", 'ma', 'mightn', \"mightn't\", 'mustn', \"mustn't\", 'needn', \"needn't\",'shan', \"shan't\",\n",
        "                    'shouldn', \"shouldn't\", 'wasn', \"wasn't\", 'weren', \"weren't\", 'won', \"won't\", 'wouldn', \"wouldn't\"]\n"
      ],
      "execution_count": 20,
      "outputs": []
    },
    {
      "cell_type": "code",
      "metadata": {
        "id": "MDljmKDkj8Zi"
      },
      "source": [
        "stop_words2=[]\n",
        "stop_words2.extend(custom_stop_words)\n",
        "stop_words2=list(set(stop_words2))\n",
        "\n",
        "def remove_stop_words(text):\n",
        "    removed_stop_words = \"\"\n",
        "    text=text.lower()\n",
        "    text=' '.join([word for word in text.split() if word not in stop_words2])\n",
        "    return text\n",
        "\n",
        "dt_base_new=dt_base['Movie Review'].apply(remove_stop_words)\n",
        "dt_test_base_new=dt_test_base['Movie Review'].apply(remove_stop_words)"
      ],
      "execution_count": 21,
      "outputs": []
    },
    {
      "cell_type": "code",
      "metadata": {
        "id": "fm_0Cvr_fgmA"
      },
      "source": [
        "import re\n",
        "\n",
        "REPLACE_NO_SPACE = re.compile(\"(\\.)|(\\;)|(\\:)|(\\!)|(\\')|(\\?)|(\\,)|(\\\")|(\\()|(\\))|(\\[)|(\\])|(\\d+)\")\n",
        "REPLACE_WITH_SPACE = re.compile(\"(<br\\s*/><br\\s*/>)|(\\-)|(\\/)\")\n",
        "NO_SPACE = \"\"\n",
        "SPACE = \" \"\n",
        "\n",
        "def clean_text(text):\n",
        "  text = REPLACE_NO_SPACE.sub(NO_SPACE, text.lower())\n",
        "  text = REPLACE_WITH_SPACE.sub(SPACE, text)\n",
        "  text = re.sub('\\[[^]]*\\]', '', text)\n",
        "  text = re.sub(r'http\\S+', '', text) ## removes urls\n",
        "  text = re.sub('<.*?>', '',text)## removes html patterns\n",
        "  return text\n",
        "    \n",
        "dt_base['Movie Review']=dt_base['Movie Review'].apply(clean_text)\n",
        "dt_test_base['Movie Review']=dt_test_base['Movie Review'].apply(clean_text)"
      ],
      "execution_count": 22,
      "outputs": []
    },
    {
      "cell_type": "code",
      "metadata": {
        "colab": {
          "base_uri": "https://localhost:8080/",
          "height": 199
        },
        "id": "8igJwMv6m78J",
        "outputId": "ecff52c8-5a12-4dd1-88a9-2b44a4391e87"
      },
      "source": [
        "dt_base.head()"
      ],
      "execution_count": 23,
      "outputs": [
        {
          "output_type": "execute_result",
          "data": {
            "text/html": [
              "<div>\n",
              "<style scoped>\n",
              "    .dataframe tbody tr th:only-of-type {\n",
              "        vertical-align: middle;\n",
              "    }\n",
              "\n",
              "    .dataframe tbody tr th {\n",
              "        vertical-align: top;\n",
              "    }\n",
              "\n",
              "    .dataframe thead th {\n",
              "        text-align: right;\n",
              "    }\n",
              "</style>\n",
              "<table border=\"1\" class=\"dataframe\">\n",
              "  <thead>\n",
              "    <tr style=\"text-align: right;\">\n",
              "      <th></th>\n",
              "      <th>Movie Review</th>\n",
              "      <th>Target</th>\n",
              "    </tr>\n",
              "  </thead>\n",
              "  <tbody>\n",
              "    <tr>\n",
              "      <th>0</th>\n",
              "      <td>bromwell high is a cartoon comedy it ran at th...</td>\n",
              "      <td>1</td>\n",
              "    </tr>\n",
              "    <tr>\n",
              "      <th>1</th>\n",
              "      <td>homelessness or houselessness as george carlin...</td>\n",
              "      <td>1</td>\n",
              "    </tr>\n",
              "    <tr>\n",
              "      <th>2</th>\n",
              "      <td>brilliant over acting by lesley ann warren bes...</td>\n",
              "      <td>1</td>\n",
              "    </tr>\n",
              "    <tr>\n",
              "      <th>3</th>\n",
              "      <td>this is easily the most underrated film inn th...</td>\n",
              "      <td>1</td>\n",
              "    </tr>\n",
              "    <tr>\n",
              "      <th>4</th>\n",
              "      <td>this is not the typical mel brooks film it was...</td>\n",
              "      <td>1</td>\n",
              "    </tr>\n",
              "  </tbody>\n",
              "</table>\n",
              "</div>"
            ],
            "text/plain": [
              "                                        Movie Review  Target\n",
              "0  bromwell high is a cartoon comedy it ran at th...       1\n",
              "1  homelessness or houselessness as george carlin...       1\n",
              "2  brilliant over acting by lesley ann warren bes...       1\n",
              "3  this is easily the most underrated film inn th...       1\n",
              "4  this is not the typical mel brooks film it was...       1"
            ]
          },
          "metadata": {
            "tags": []
          },
          "execution_count": 23
        }
      ]
    },
    {
      "cell_type": "markdown",
      "metadata": {
        "id": "KrquFUgJvVTF"
      },
      "source": [
        "**Cleaned Text Data visualization and exploration**"
      ]
    },
    {
      "cell_type": "code",
      "metadata": {
        "id": "5P1darP-p0Ln",
        "colab": {
          "base_uri": "https://localhost:8080/",
          "height": 432
        },
        "outputId": "df1cf27e-e37f-4e3a-9fc5-4626a6966417"
      },
      "source": [
        "h=list(dt_base[\"Target\"].value_counts())\n",
        "fig, ax = plt.subplots(figsize=(7,7))\n",
        "op=ax.bar([0,1],h,color=['g','r'])\n",
        "ax.legend(op, ['POSITIVE','NEGATIVE'])\n",
        "plt.xticks([0,1])\n",
        "plt.ylim(0,14000)\n",
        "plt.show()"
      ],
      "execution_count": 14,
      "outputs": [
        {
          "output_type": "display_data",
          "data": {
            "image/png": "[encoded data removed]",
            "text/plain": [
              "<Figure size 504x504 with 1 Axes>"
            ]
          },
          "metadata": {
            "tags": [],
            "needs_background": "light"
          }
        }
      ]
    },
    {
      "cell_type": "code",
      "metadata": {
        "id": "sMTPwxvsp0Ow",
        "colab": {
          "base_uri": "https://localhost:8080/",
          "height": 685
        },
        "outputId": "73636249-3b8c-4428-fbfe-0e53b889aa9e"
      },
      "source": [
        "plt.figure(figsize=(6,5))\n",
        "plt.title('Count of Characters in texts\\nPOSITIVE REVIEWS')\n",
        "text_len=dt_base[dt_base['Target']==1]['Movie Review'].str.len()\n",
        "plt.hist(text_len,color='C1')\n",
        "plt.grid(linewidth=0.5)\n",
        "plt.show()\n",
        "\n",
        "plt.figure(figsize=(6,5))\n",
        "text_len=dt_base[dt_base['Target']==0]['Movie Review'].str.len()\n",
        "plt.title('Count of Characters in texts\\nNEGATIVE REVIEWS')\n",
        "plt.hist(text_len,color='C0')\n",
        "plt.grid(linewidth=0.5)\n",
        "plt.show()"
      ],
      "execution_count": 24,
      "outputs": [
        {
          "output_type": "display_data",
          "data": {
            "image/png": "[encoded data removed]",
            "text/plain": [
              "<Figure size 432x360 with 1 Axes>"
            ]
          },
          "metadata": {
            "tags": [],
            "needs_background": "light"
          }
        },
        {
          "output_type": "display_data",
          "data": {
            "image/png": "[encoded data removed]",
            "text/plain": [
              "<Figure size 432x360 with 1 Axes>"
            ]
          },
          "metadata": {
            "tags": [],
            "needs_background": "light"
          }
        }
      ]
    },
    {
      "cell_type": "code",
      "metadata": {
        "id": "--ueExPWp0Ri",
        "colab": {
          "base_uri": "https://localhost:8080/",
          "height": 479
        },
        "outputId": "25dfbd41-176b-4ade-ef90-02f00b86e511"
      },
      "source": [
        "fig,(ax1,ax2)=plt.subplots(1,2,figsize=(12,7))\n",
        "text_len=dt_base[dt_base['Target']==1]['Movie Review'].str.split().map(lambda x: len(x))\n",
        "ax1.hist(text_len,color='C1')\n",
        "ax1.set_title('POSITIVE REVIEWS')\n",
        "text_len=dt_base[dt_base['Target']==0]['Movie Review'].str.split().map(lambda x: len(x))\n",
        "ax2.hist(text_len,color='C0')\n",
        "ax2.set_title('NEGATIVE REVIEWS')\n",
        "fig.suptitle('Count of number of Words in texts')\n",
        "plt.show()"
      ],
      "execution_count": 25,
      "outputs": [
        {
          "output_type": "display_data",
          "data": {
            "image/png": "[encoded data removed]",
            "text/plain": [
              "<Figure size 864x504 with 2 Axes>"
            ]
          },
          "metadata": {
            "tags": [],
            "needs_background": "light"
          }
        }
      ]
    },
    {
      "cell_type": "code",
      "metadata": {
        "id": "GLjrlYkhp0UY"
      },
      "source": [
        "def frequent_words_text_ngrams(input_text, n, g):\n",
        "    vec = CountVectorizer(ngram_range=(g, g) ).fit(input_text)\n",
        "    vocab_words = vec.transform(input_text)\n",
        "    words_sum = vocab_words.sum(axis=0) \n",
        "    words_freq = [(word, words_sum[0, idx]) for word, idx in vec.vocabulary_.items()]\n",
        "    words_freq = sorted(words_freq, key = lambda x: x[1], reverse=True)\n",
        "    return words_freq[:n]"
      ],
      "execution_count": 26,
      "outputs": []
    },
    {
      "cell_type": "code",
      "metadata": {
        "id": "m-OSryycGKEq"
      },
      "source": [
        "most_common_uni = frequent_words_text_ngrams(dt_base_new,18,1)\n",
        "most_common_uni = dict(most_common_uni)\n",
        "temp = pd.DataFrame(columns = [\"Common_words\" , 'Count'])\n",
        "temp[\"Common_words\"] = list(most_common_uni.keys())\n",
        "temp[\"Count\"] = list(most_common_uni.values())"
      ],
      "execution_count": 27,
      "outputs": []
    },
    {
      "cell_type": "code",
      "metadata": {
        "id": "4wkm-HYgmNyg",
        "colab": {
          "base_uri": "https://localhost:8080/",
          "height": 717
        },
        "outputId": "a87f50f2-ee6c-4af5-df81-35daf7d9c2c9"
      },
      "source": [
        "fig2= px.bar(temp, x=\"Count\", y=\"Common_words\", title='Frequently occuring Unigram Words in Text', orientation='h', \n",
        "             width=700, height=700,color='Common_words')\n",
        "fig2.show()"
      ],
      "execution_count": 28,
      "outputs": [
        {
          "output_type": "display_data",
          "data": {
            "text/html": [
              "<html>\n",
              "<head><meta charset=\"utf-8\" /></head>\n",
              "<body>\n",
              "    <div>\n",
              "            <script src=\"https://cdnjs.cloudflare.com/ajax/libs/mathjax/2.7.5/MathJax.js?config=TeX-AMS-MML_SVG\"></script><script type=\"text/javascript\">if (window.MathJax) {MathJax.Hub.Config({SVG: {font: \"STIX-Web\"}});}</script>\n",
              "                <script type=\"text/javascript\">window.PlotlyConfig = {MathJaxConfig: 'local'};</script>\n",
              "        <script src=\"https://cdn.plot.ly/plotly-latest.min.js\"></script>    \n",
              "            <div id=\"d0d1c21f-5854-4127-bb63-b5e7b16d75d2\" class=\"plotly-graph-div\" style=\"height:700px; width:700px;\"></div>\n",
              "            <script type=\"text/javascript\">\n",
              "                \n",
              "                    window.PLOTLYENV=window.PLOTLYENV || {};\n",
              "                    \n",
              "                if (document.getElementById(\"d0d1c21f-5854-4127-bb63-b5e7b16d75d2\")) {\n",
              "                    Plotly.newPlot(\n",
              "                        'd0d1c21f-5854-4127-bb63-b5e7b16d75d2',\n",
              "                        [{\"alignmentgroup\": \"True\", \"hoverlabel\": {\"namelength\": 0}, \"hovertemplate\": \"Common_words=%{y}<br>Count=%{x}\", \"legendgroup\": \"Common_words=movie\", \"marker\": {\"color\": \"#636efa\"}, \"name\": \"Common_words=movie\", \"offsetgroup\": \"Common_words=movie\", \"orientation\": \"h\", \"showlegend\": true, \"textposition\": \"auto\", \"type\": \"bar\", \"x\": [43259], \"xaxis\": \"x\", \"y\": [\"movie\"], \"yaxis\": \"y\"}, {\"alignmentgroup\": \"True\", \"hoverlabel\": {\"namelength\": 0}, \"hovertemplate\": \"Common_words=%{y}<br>Count=%{x}\", \"legendgroup\": \"Common_words=film\", \"marker\": {\"color\": \"#EF553B\"}, \"name\": \"Common_words=film\", \"offsetgroup\": \"Common_words=film\", \"orientation\": \"h\", \"showlegend\": true, \"textposition\": \"auto\", \"type\": \"bar\", \"x\": [38929], \"xaxis\": \"x\", \"y\": [\"film\"], \"yaxis\": \"y\"}, {\"alignmentgroup\": \"True\", \"hoverlabel\": {\"namelength\": 0}, \"hovertemplate\": \"Common_words=%{y}<br>Count=%{x}\", \"legendgroup\": \"Common_words=one\", \"marker\": {\"color\": \"#00cc96\"}, \"name\": \"Common_words=one\", \"offsetgroup\": \"Common_words=one\", \"orientation\": \"h\", \"showlegend\": true, \"textposition\": \"auto\", \"type\": \"bar\", \"x\": [26403], \"xaxis\": \"x\", \"y\": [\"one\"], \"yaxis\": \"y\"}, {\"alignmentgroup\": \"True\", \"hoverlabel\": {\"namelength\": 0}, \"hovertemplate\": \"Common_words=%{y}<br>Count=%{x}\", \"legendgroup\": \"Common_words=like\", \"marker\": {\"color\": \"#ab63fa\"}, \"name\": \"Common_words=like\", \"offsetgroup\": \"Common_words=like\", \"orientation\": \"h\", \"showlegend\": true, \"textposition\": \"auto\", \"type\": \"bar\", \"x\": [20186], \"xaxis\": \"x\", \"y\": [\"like\"], \"yaxis\": \"y\"}, {\"alignmentgroup\": \"True\", \"hoverlabel\": {\"namelength\": 0}, \"hovertemplate\": \"Common_words=%{y}<br>Count=%{x}\", \"legendgroup\": \"Common_words=good\", \"marker\": {\"color\": \"#FFA15A\"}, \"name\": \"Common_words=good\", \"offsetgroup\": \"Common_words=good\", \"orientation\": \"h\", \"showlegend\": true, \"textposition\": \"auto\", \"type\": \"bar\", \"x\": [15031], \"xaxis\": \"x\", \"y\": [\"good\"], \"yaxis\": \"y\"}, {\"alignmentgroup\": \"True\", \"hoverlabel\": {\"namelength\": 0}, \"hovertemplate\": \"Common_words=%{y}<br>Count=%{x}\", \"legendgroup\": \"Common_words=time\", \"marker\": {\"color\": \"#19d3f3\"}, \"name\": \"Common_words=time\", \"offsetgroup\": \"Common_words=time\", \"orientation\": \"h\", \"showlegend\": true, \"textposition\": \"auto\", \"type\": \"bar\", \"x\": [12622], \"xaxis\": \"x\", \"y\": [\"time\"], \"yaxis\": \"y\"}, {\"alignmentgroup\": \"True\", \"hoverlabel\": {\"namelength\": 0}, \"hovertemplate\": \"Common_words=%{y}<br>Count=%{x}\", \"legendgroup\": \"Common_words=even\", \"marker\": {\"color\": \"#FF6692\"}, \"name\": \"Common_words=even\", \"offsetgroup\": \"Common_words=even\", \"orientation\": \"h\", \"showlegend\": true, \"textposition\": \"auto\", \"type\": \"bar\", \"x\": [12575], \"xaxis\": \"x\", \"y\": [\"even\"], \"yaxis\": \"y\"}, {\"alignmentgroup\": \"True\", \"hoverlabel\": {\"namelength\": 0}, \"hovertemplate\": \"Common_words=%{y}<br>Count=%{x}\", \"legendgroup\": \"Common_words=would\", \"marker\": {\"color\": \"#B6E880\"}, \"name\": \"Common_words=would\", \"offsetgroup\": \"Common_words=would\", \"orientation\": \"h\", \"showlegend\": true, \"textposition\": \"auto\", \"type\": \"bar\", \"x\": [12229], \"xaxis\": \"x\", \"y\": [\"would\"], \"yaxis\": \"y\"}, {\"alignmentgroup\": \"True\", \"hoverlabel\": {\"namelength\": 0}, \"hovertemplate\": \"Common_words=%{y}<br>Count=%{x}\", \"legendgroup\": \"Common_words=story\", \"marker\": {\"color\": \"#FF97FF\"}, \"name\": \"Common_words=story\", \"offsetgroup\": \"Common_words=story\", \"orientation\": \"h\", \"showlegend\": true, \"textposition\": \"auto\", \"type\": \"bar\", \"x\": [11879], \"xaxis\": \"x\", \"y\": [\"story\"], \"yaxis\": \"y\"}, {\"alignmentgroup\": \"True\", \"hoverlabel\": {\"namelength\": 0}, \"hovertemplate\": \"Common_words=%{y}<br>Count=%{x}\", \"legendgroup\": \"Common_words=really\", \"marker\": {\"color\": \"#FECB52\"}, \"name\": \"Common_words=really\", \"offsetgroup\": \"Common_words=really\", \"orientation\": \"h\", \"showlegend\": true, \"textposition\": \"auto\", \"type\": \"bar\", \"x\": [11706], \"xaxis\": \"x\", \"y\": [\"really\"], \"yaxis\": \"y\"}, {\"alignmentgroup\": \"True\", \"hoverlabel\": {\"namelength\": 0}, \"hovertemplate\": \"Common_words=%{y}<br>Count=%{x}\", \"legendgroup\": \"Common_words=see\", \"marker\": {\"color\": \"#636efa\"}, \"name\": \"Common_words=see\", \"offsetgroup\": \"Common_words=see\", \"orientation\": \"h\", \"showlegend\": true, \"textposition\": \"auto\", \"type\": \"bar\", \"x\": [11431], \"xaxis\": \"x\", \"y\": [\"see\"], \"yaxis\": \"y\"}, {\"alignmentgroup\": \"True\", \"hoverlabel\": {\"namelength\": 0}, \"hovertemplate\": \"Common_words=%{y}<br>Count=%{x}\", \"legendgroup\": \"Common_words=well\", \"marker\": {\"color\": \"#EF553B\"}, \"name\": \"Common_words=well\", \"offsetgroup\": \"Common_words=well\", \"orientation\": \"h\", \"showlegend\": true, \"textposition\": \"auto\", \"type\": \"bar\", \"x\": [10537], \"xaxis\": \"x\", \"y\": [\"well\"], \"yaxis\": \"y\"}, {\"alignmentgroup\": \"True\", \"hoverlabel\": {\"namelength\": 0}, \"hovertemplate\": \"Common_words=%{y}<br>Count=%{x}\", \"legendgroup\": \"Common_words=much\", \"marker\": {\"color\": \"#00cc96\"}, \"name\": \"Common_words=much\", \"offsetgroup\": \"Common_words=much\", \"orientation\": \"h\", \"showlegend\": true, \"textposition\": \"auto\", \"type\": \"bar\", \"x\": [9732], \"xaxis\": \"x\", \"y\": [\"much\"], \"yaxis\": \"y\"}, {\"alignmentgroup\": \"True\", \"hoverlabel\": {\"namelength\": 0}, \"hovertemplate\": \"Common_words=%{y}<br>Count=%{x}\", \"legendgroup\": \"Common_words=get\", \"marker\": {\"color\": \"#ab63fa\"}, \"name\": \"Common_words=get\", \"offsetgroup\": \"Common_words=get\", \"orientation\": \"h\", \"showlegend\": true, \"textposition\": \"auto\", \"type\": \"bar\", \"x\": [9269], \"xaxis\": \"x\", \"y\": [\"get\"], \"yaxis\": \"y\"}, {\"alignmentgroup\": \"True\", \"hoverlabel\": {\"namelength\": 0}, \"hovertemplate\": \"Common_words=%{y}<br>Count=%{x}\", \"legendgroup\": \"Common_words=bad\", \"marker\": {\"color\": \"#FFA15A\"}, \"name\": \"Common_words=bad\", \"offsetgroup\": \"Common_words=bad\", \"orientation\": \"h\", \"showlegend\": true, \"textposition\": \"auto\", \"type\": \"bar\", \"x\": [9227], \"xaxis\": \"x\", \"y\": [\"bad\"], \"yaxis\": \"y\"}, {\"alignmentgroup\": \"True\", \"hoverlabel\": {\"namelength\": 0}, \"hovertemplate\": \"Common_words=%{y}<br>Count=%{x}\", \"legendgroup\": \"Common_words=also\", \"marker\": {\"color\": \"#19d3f3\"}, \"name\": \"Common_words=also\", \"offsetgroup\": \"Common_words=also\", \"orientation\": \"h\", \"showlegend\": true, \"textposition\": \"auto\", \"type\": \"bar\", \"x\": [9103], \"xaxis\": \"x\", \"y\": [\"also\"], \"yaxis\": \"y\"}, {\"alignmentgroup\": \"True\", \"hoverlabel\": {\"namelength\": 0}, \"hovertemplate\": \"Common_words=%{y}<br>Count=%{x}\", \"legendgroup\": \"Common_words=people\", \"marker\": {\"color\": \"#FF6692\"}, \"name\": \"Common_words=people\", \"offsetgroup\": \"Common_words=people\", \"orientation\": \"h\", \"showlegend\": true, \"textposition\": \"auto\", \"type\": \"bar\", \"x\": [9070], \"xaxis\": \"x\", \"y\": [\"people\"], \"yaxis\": \"y\"}, {\"alignmentgroup\": \"True\", \"hoverlabel\": {\"namelength\": 0}, \"hovertemplate\": \"Common_words=%{y}<br>Count=%{x}\", \"legendgroup\": \"Common_words=first\", \"marker\": {\"color\": \"#B6E880\"}, \"name\": \"Common_words=first\", \"offsetgroup\": \"Common_words=first\", \"orientation\": \"h\", \"showlegend\": true, \"textposition\": \"auto\", \"type\": \"bar\", \"x\": [9036], \"xaxis\": \"x\", \"y\": [\"first\"], \"yaxis\": \"y\"}],\n",
              "                        {\"barmode\": \"relative\", \"height\": 700, \"legend\": {\"tracegroupgap\": 0}, \"template\": {\"data\": {\"bar\": [{\"error_x\": {\"color\": \"#2a3f5f\"}, \"error_y\": {\"color\": \"#2a3f5f\"}, \"marker\": {\"line\": {\"color\": \"#E5ECF6\", \"width\": 0.5}}, \"type\": \"bar\"}], \"barpolar\": [{\"marker\": {\"line\": {\"color\": \"#E5ECF6\", \"width\": 0.5}}, \"type\": \"barpolar\"}], \"carpet\": [{\"aaxis\": {\"endlinecolor\": \"#2a3f5f\", \"gridcolor\": \"white\", \"linecolor\": \"white\", \"minorgridcolor\": \"white\", \"startlinecolor\": \"#2a3f5f\"}, \"baxis\": {\"endlinecolor\": \"#2a3f5f\", \"gridcolor\": \"white\", \"linecolor\": \"white\", \"minorgridcolor\": \"white\", \"startlinecolor\": \"#2a3f5f\"}, \"type\": \"carpet\"}], \"choropleth\": [{\"colorbar\": {\"outlinewidth\": 0, \"ticks\": \"\"}, \"type\": \"choropleth\"}], \"contour\": [{\"colorbar\": {\"outlinewidth\": 0, \"ticks\": \"\"}, \"colorscale\": [[0.0, \"#0d0887\"], [0.1111111111111111, \"#46039f\"], [0.2222222222222222, \"#7201a8\"], [0.3333333333333333, \"#9c179e\"], [0.4444444444444444, \"#bd3786\"], [0.5555555555555556, \"#d8576b\"], [0.6666666666666666, \"#ed7953\"], [0.7777777777777778, \"#fb9f3a\"], [0.8888888888888888, \"#fdca26\"], [1.0, \"#f0f921\"]], \"type\": \"contour\"}], \"contourcarpet\": [{\"colorbar\": {\"outlinewidth\": 0, \"ticks\": \"\"}, \"type\": \"contourcarpet\"}], \"heatmap\": [{\"colorbar\": {\"outlinewidth\": 0, \"ticks\": \"\"}, \"colorscale\": [[0.0, \"#0d0887\"], [0.1111111111111111, \"#46039f\"], [0.2222222222222222, \"#7201a8\"], [0.3333333333333333, \"#9c179e\"], [0.4444444444444444, \"#bd3786\"], [0.5555555555555556, \"#d8576b\"], [0.6666666666666666, \"#ed7953\"], [0.7777777777777778, \"#fb9f3a\"], [0.8888888888888888, \"#fdca26\"], [1.0, \"#f0f921\"]], \"type\": \"heatmap\"}], \"heatmapgl\": [{\"colorbar\": {\"outlinewidth\": 0, \"ticks\": \"\"}, \"colorscale\": [[0.0, \"#0d0887\"], [0.1111111111111111, \"#46039f\"], [0.2222222222222222, \"#7201a8\"], [0.3333333333333333, \"#9c179e\"], [0.4444444444444444, \"#bd3786\"], [0.5555555555555556, \"#d8576b\"], [0.6666666666666666, \"#ed7953\"], [0.7777777777777778, \"#fb9f3a\"], [0.8888888888888888, \"#fdca26\"], [1.0, \"#f0f921\"]], \"type\": \"heatmapgl\"}], \"histogram\": [{\"marker\": {\"colorbar\": {\"outlinewidth\": 0, \"ticks\": \"\"}}, \"type\": \"histogram\"}], \"histogram2d\": [{\"colorbar\": {\"outlinewidth\": 0, \"ticks\": \"\"}, \"colorscale\": [[0.0, \"#0d0887\"], [0.1111111111111111, \"#46039f\"], [0.2222222222222222, \"#7201a8\"], [0.3333333333333333, \"#9c179e\"], [0.4444444444444444, \"#bd3786\"], [0.5555555555555556, \"#d8576b\"], [0.6666666666666666, \"#ed7953\"], [0.7777777777777778, \"#fb9f3a\"], [0.8888888888888888, \"#fdca26\"], [1.0, \"#f0f921\"]], \"type\": \"histogram2d\"}], \"histogram2dcontour\": [{\"colorbar\": {\"outlinewidth\": 0, \"ticks\": \"\"}, \"colorscale\": [[0.0, \"#0d0887\"], [0.1111111111111111, \"#46039f\"], [0.2222222222222222, \"#7201a8\"], [0.3333333333333333, \"#9c179e\"], [0.4444444444444444, \"#bd3786\"], [0.5555555555555556, \"#d8576b\"], [0.6666666666666666, \"#ed7953\"], [0.7777777777777778, \"#fb9f3a\"], [0.8888888888888888, \"#fdca26\"], [1.0, \"#f0f921\"]], \"type\": \"histogram2dcontour\"}], \"mesh3d\": [{\"colorbar\": {\"outlinewidth\": 0, \"ticks\": \"\"}, \"type\": \"mesh3d\"}], \"parcoords\": [{\"line\": {\"colorbar\": {\"outlinewidth\": 0, \"ticks\": \"\"}}, \"type\": \"parcoords\"}], \"pie\": [{\"automargin\": true, \"type\": \"pie\"}], \"scatter\": [{\"marker\": {\"colorbar\": {\"outlinewidth\": 0, \"ticks\": \"\"}}, \"type\": \"scatter\"}], \"scatter3d\": [{\"line\": {\"colorbar\": {\"outlinewidth\": 0, \"ticks\": \"\"}}, \"marker\": {\"colorbar\": {\"outlinewidth\": 0, \"ticks\": \"\"}}, \"type\": \"scatter3d\"}], \"scattercarpet\": [{\"marker\": {\"colorbar\": {\"outlinewidth\": 0, \"ticks\": \"\"}}, \"type\": \"scattercarpet\"}], \"scattergeo\": [{\"marker\": {\"colorbar\": {\"outlinewidth\": 0, \"ticks\": \"\"}}, \"type\": \"scattergeo\"}], \"scattergl\": [{\"marker\": {\"colorbar\": {\"outlinewidth\": 0, \"ticks\": \"\"}}, \"type\": \"scattergl\"}], \"scattermapbox\": [{\"marker\": {\"colorbar\": {\"outlinewidth\": 0, \"ticks\": \"\"}}, \"type\": \"scattermapbox\"}], \"scatterpolar\": [{\"marker\": {\"colorbar\": {\"outlinewidth\": 0, \"ticks\": \"\"}}, \"type\": \"scatterpolar\"}], \"scatterpolargl\": [{\"marker\": {\"colorbar\": {\"outlinewidth\": 0, \"ticks\": \"\"}}, \"type\": \"scatterpolargl\"}], \"scatterternary\": [{\"marker\": {\"colorbar\": {\"outlinewidth\": 0, \"ticks\": \"\"}}, \"type\": \"scatterternary\"}], \"surface\": [{\"colorbar\": {\"outlinewidth\": 0, \"ticks\": \"\"}, \"colorscale\": [[0.0, \"#0d0887\"], [0.1111111111111111, \"#46039f\"], [0.2222222222222222, \"#7201a8\"], [0.3333333333333333, \"#9c179e\"], [0.4444444444444444, \"#bd3786\"], [0.5555555555555556, \"#d8576b\"], [0.6666666666666666, \"#ed7953\"], [0.7777777777777778, \"#fb9f3a\"], [0.8888888888888888, \"#fdca26\"], [1.0, \"#f0f921\"]], \"type\": \"surface\"}], \"table\": [{\"cells\": {\"fill\": {\"color\": \"#EBF0F8\"}, \"line\": {\"color\": \"white\"}}, \"header\": {\"fill\": {\"color\": \"#C8D4E3\"}, \"line\": {\"color\": \"white\"}}, \"type\": \"table\"}]}, \"layout\": {\"annotationdefaults\": {\"arrowcolor\": \"#2a3f5f\", \"arrowhead\": 0, \"arrowwidth\": 1}, \"coloraxis\": {\"colorbar\": {\"outlinewidth\": 0, \"ticks\": \"\"}}, \"colorscale\": {\"diverging\": [[0, \"#8e0152\"], [0.1, \"#c51b7d\"], [0.2, \"#de77ae\"], [0.3, \"#f1b6da\"], [0.4, \"#fde0ef\"], [0.5, \"#f7f7f7\"], [0.6, \"#e6f5d0\"], [0.7, \"#b8e186\"], [0.8, \"#7fbc41\"], [0.9, \"#4d9221\"], [1, \"#276419\"]], \"sequential\": [[0.0, \"#0d0887\"], [0.1111111111111111, \"#46039f\"], [0.2222222222222222, \"#7201a8\"], [0.3333333333333333, \"#9c179e\"], [0.4444444444444444, \"#bd3786\"], [0.5555555555555556, \"#d8576b\"], [0.6666666666666666, \"#ed7953\"], [0.7777777777777778, \"#fb9f3a\"], [0.8888888888888888, \"#fdca26\"], [1.0, \"#f0f921\"]], \"sequentialminus\": [[0.0, \"#0d0887\"], [0.1111111111111111, \"#46039f\"], [0.2222222222222222, \"#7201a8\"], [0.3333333333333333, \"#9c179e\"], [0.4444444444444444, \"#bd3786\"], [0.5555555555555556, \"#d8576b\"], [0.6666666666666666, \"#ed7953\"], [0.7777777777777778, \"#fb9f3a\"], [0.8888888888888888, \"#fdca26\"], [1.0, \"#f0f921\"]]}, \"colorway\": [\"#636efa\", \"#EF553B\", \"#00cc96\", \"#ab63fa\", \"#FFA15A\", \"#19d3f3\", \"#FF6692\", \"#B6E880\", \"#FF97FF\", \"#FECB52\"], \"font\": {\"color\": \"#2a3f5f\"}, \"geo\": {\"bgcolor\": \"white\", \"lakecolor\": \"white\", \"landcolor\": \"#E5ECF6\", \"showlakes\": true, \"showland\": true, \"subunitcolor\": \"white\"}, \"hoverlabel\": {\"align\": \"left\"}, \"hovermode\": \"closest\", \"mapbox\": {\"style\": \"light\"}, \"paper_bgcolor\": \"white\", \"plot_bgcolor\": \"#E5ECF6\", \"polar\": {\"angularaxis\": {\"gridcolor\": \"white\", \"linecolor\": \"white\", \"ticks\": \"\"}, \"bgcolor\": \"#E5ECF6\", \"radialaxis\": {\"gridcolor\": \"white\", \"linecolor\": \"white\", \"ticks\": \"\"}}, \"scene\": {\"xaxis\": {\"backgroundcolor\": \"#E5ECF6\", \"gridcolor\": \"white\", \"gridwidth\": 2, \"linecolor\": \"white\", \"showbackground\": true, \"ticks\": \"\", \"zerolinecolor\": \"white\"}, \"yaxis\": {\"backgroundcolor\": \"#E5ECF6\", \"gridcolor\": \"white\", \"gridwidth\": 2, \"linecolor\": \"white\", \"showbackground\": true, \"ticks\": \"\", \"zerolinecolor\": \"white\"}, \"zaxis\": {\"backgroundcolor\": \"#E5ECF6\", \"gridcolor\": \"white\", \"gridwidth\": 2, \"linecolor\": \"white\", \"showbackground\": true, \"ticks\": \"\", \"zerolinecolor\": \"white\"}}, \"shapedefaults\": {\"line\": {\"color\": \"#2a3f5f\"}}, \"ternary\": {\"aaxis\": {\"gridcolor\": \"white\", \"linecolor\": \"white\", \"ticks\": \"\"}, \"baxis\": {\"gridcolor\": \"white\", \"linecolor\": \"white\", \"ticks\": \"\"}, \"bgcolor\": \"#E5ECF6\", \"caxis\": {\"gridcolor\": \"white\", \"linecolor\": \"white\", \"ticks\": \"\"}}, \"title\": {\"x\": 0.05}, \"xaxis\": {\"automargin\": true, \"gridcolor\": \"white\", \"linecolor\": \"white\", \"ticks\": \"\", \"title\": {\"standoff\": 15}, \"zerolinecolor\": \"white\", \"zerolinewidth\": 2}, \"yaxis\": {\"automargin\": true, \"gridcolor\": \"white\", \"linecolor\": \"white\", \"ticks\": \"\", \"title\": {\"standoff\": 15}, \"zerolinecolor\": \"white\", \"zerolinewidth\": 2}}}, \"title\": {\"text\": \"Frequently occuring Unigram Words in Text\"}, \"width\": 700, \"xaxis\": {\"anchor\": \"y\", \"domain\": [0.0, 1.0], \"title\": {\"text\": \"Count\"}}, \"yaxis\": {\"anchor\": \"x\", \"categoryarray\": [\"first\", \"people\", \"also\", \"bad\", \"get\", \"much\", \"well\", \"see\", \"really\", \"story\", \"would\", \"even\", \"time\", \"good\", \"like\", \"one\", \"film\", \"movie\"], \"categoryorder\": \"array\", \"domain\": [0.0, 1.0], \"title\": {\"text\": \"Common_words\"}}},\n",
              "                        {\"responsive\": true}\n",
              "                    ).then(function(){\n",
              "                            \n",
              "var gd = document.getElementById('d0d1c21f-5854-4127-bb63-b5e7b16d75d2');\n",
              "var x = new MutationObserver(function (mutations, observer) {{\n",
              "        var display = window.getComputedStyle(gd).display;\n",
              "        if (!display || display === 'none') {{\n",
              "            console.log([gd, 'removed!']);\n",
              "            Plotly.purge(gd);\n",
              "            observer.disconnect();\n",
              "        }}\n",
              "}});\n",
              "\n",
              "// Listen for the removal of the full notebook cells\n",
              "var notebookContainer = gd.closest('#notebook-container');\n",
              "if (notebookContainer) {{\n",
              "    x.observe(notebookContainer, {childList: true});\n",
              "}}\n",
              "\n",
              "// Listen for the clearing of the current output cell\n",
              "var outputEl = gd.closest('.output');\n",
              "if (outputEl) {{\n",
              "    x.observe(outputEl, {childList: true});\n",
              "}}\n",
              "\n",
              "                        })\n",
              "                };\n",
              "                \n",
              "            </script>\n",
              "        </div>\n",
              "</body>\n",
              "</html>"
            ]
          },
          "metadata": {
            "tags": []
          }
        }
      ]
    },
    {
      "cell_type": "code",
      "metadata": {
        "id": "I-2RiZ5mmV5T"
      },
      "source": [
        "most_common_bi = frequent_words_text_ngrams(dt_base_new,18,2)\n",
        "most_common_bi = dict(most_common_bi)\n",
        "temp = pd.DataFrame(columns = [\"Common_words\" , 'Count'])\n",
        "temp[\"Common_words\"] = list(most_common_bi.keys())\n",
        "temp[\"Count\"] = list(most_common_bi.values())\n"
      ],
      "execution_count": 29,
      "outputs": []
    },
    {
      "cell_type": "code",
      "metadata": {
        "colab": {
          "base_uri": "https://localhost:8080/",
          "height": 717
        },
        "id": "fsM_7nsoyXnA",
        "outputId": "0843b027-acfd-4fec-e2a8-4c792965e6ee"
      },
      "source": [
        "fig1 = px.bar(temp, x=\"Count\", y=\"Common_words\", title='Frequently occuring Bigrams in Text', orientation='h', \n",
        "             width=700, height=700,color='Common_words')\n",
        "fig1.show()"
      ],
      "execution_count": 30,
      "outputs": [
        {
          "output_type": "display_data",
          "data": {
            "text/html": [
              "<html>\n",
              "<head><meta charset=\"utf-8\" /></head>\n",
              "<body>\n",
              "    <div>\n",
              "            <script src=\"https://cdnjs.cloudflare.com/ajax/libs/mathjax/2.7.5/MathJax.js?config=TeX-AMS-MML_SVG\"></script><script type=\"text/javascript\">if (window.MathJax) {MathJax.Hub.Config({SVG: {font: \"STIX-Web\"}});}</script>\n",
              "                <script type=\"text/javascript\">window.PlotlyConfig = {MathJaxConfig: 'local'};</script>\n",
              "        <script src=\"https://cdn.plot.ly/plotly-latest.min.js\"></script>    \n",
              "            <div id=\"7e03d00e-51a8-4e71-a1c5-e242ee878e2f\" class=\"plotly-graph-div\" style=\"height:700px; width:700px;\"></div>\n",
              "            <script type=\"text/javascript\">\n",
              "                \n",
              "                    window.PLOTLYENV=window.PLOTLYENV || {};\n",
              "                    \n",
              "                if (document.getElementById(\"7e03d00e-51a8-4e71-a1c5-e242ee878e2f\")) {\n",
              "                    Plotly.newPlot(\n",
              "                        '7e03d00e-51a8-4e71-a1c5-e242ee878e2f',\n",
              "                        [{\"alignmentgroup\": \"True\", \"hoverlabel\": {\"namelength\": 0}, \"hovertemplate\": \"Common_words=%{y}<br>Count=%{x}\", \"legendgroup\": \"Common_words=ever seen\", \"marker\": {\"color\": \"#636efa\"}, \"name\": \"Common_words=ever seen\", \"offsetgroup\": \"Common_words=ever seen\", \"orientation\": \"h\", \"showlegend\": true, \"textposition\": \"auto\", \"type\": \"bar\", \"x\": [1302], \"xaxis\": \"x\", \"y\": [\"ever seen\"], \"yaxis\": \"y\"}, {\"alignmentgroup\": \"True\", \"hoverlabel\": {\"namelength\": 0}, \"hovertemplate\": \"Common_words=%{y}<br>Count=%{x}\", \"legendgroup\": \"Common_words=ive seen\", \"marker\": {\"color\": \"#EF553B\"}, \"name\": \"Common_words=ive seen\", \"offsetgroup\": \"Common_words=ive seen\", \"orientation\": \"h\", \"showlegend\": true, \"textposition\": \"auto\", \"type\": \"bar\", \"x\": [1145], \"xaxis\": \"x\", \"y\": [\"ive seen\"], \"yaxis\": \"y\"}, {\"alignmentgroup\": \"True\", \"hoverlabel\": {\"namelength\": 0}, \"hovertemplate\": \"Common_words=%{y}<br>Count=%{x}\", \"legendgroup\": \"Common_words=special effects\", \"marker\": {\"color\": \"#00cc96\"}, \"name\": \"Common_words=special effects\", \"offsetgroup\": \"Common_words=special effects\", \"orientation\": \"h\", \"showlegend\": true, \"textposition\": \"auto\", \"type\": \"bar\", \"x\": [1099], \"xaxis\": \"x\", \"y\": [\"special effects\"], \"yaxis\": \"y\"}, {\"alignmentgroup\": \"True\", \"hoverlabel\": {\"namelength\": 0}, \"hovertemplate\": \"Common_words=%{y}<br>Count=%{x}\", \"legendgroup\": \"Common_words=dont know\", \"marker\": {\"color\": \"#ab63fa\"}, \"name\": \"Common_words=dont know\", \"offsetgroup\": \"Common_words=dont know\", \"orientation\": \"h\", \"showlegend\": true, \"textposition\": \"auto\", \"type\": \"bar\", \"x\": [1030], \"xaxis\": \"x\", \"y\": [\"dont know\"], \"yaxis\": \"y\"}, {\"alignmentgroup\": \"True\", \"hoverlabel\": {\"namelength\": 0}, \"hovertemplate\": \"Common_words=%{y}<br>Count=%{x}\", \"legendgroup\": \"Common_words=even though\", \"marker\": {\"color\": \"#FFA15A\"}, \"name\": \"Common_words=even though\", \"offsetgroup\": \"Common_words=even though\", \"orientation\": \"h\", \"showlegend\": true, \"textposition\": \"auto\", \"type\": \"bar\", \"x\": [1026], \"xaxis\": \"x\", \"y\": [\"even though\"], \"yaxis\": \"y\"}, {\"alignmentgroup\": \"True\", \"hoverlabel\": {\"namelength\": 0}, \"hovertemplate\": \"Common_words=%{y}<br>Count=%{x}\", \"legendgroup\": \"Common_words=one best\", \"marker\": {\"color\": \"#19d3f3\"}, \"name\": \"Common_words=one best\", \"offsetgroup\": \"Common_words=one best\", \"orientation\": \"h\", \"showlegend\": true, \"textposition\": \"auto\", \"type\": \"bar\", \"x\": [908], \"xaxis\": \"x\", \"y\": [\"one best\"], \"yaxis\": \"y\"}, {\"alignmentgroup\": \"True\", \"hoverlabel\": {\"namelength\": 0}, \"hovertemplate\": \"Common_words=%{y}<br>Count=%{x}\", \"legendgroup\": \"Common_words=low budget\", \"marker\": {\"color\": \"#FF6692\"}, \"name\": \"Common_words=low budget\", \"offsetgroup\": \"Common_words=low budget\", \"orientation\": \"h\", \"showlegend\": true, \"textposition\": \"auto\", \"type\": \"bar\", \"x\": [876], \"xaxis\": \"x\", \"y\": [\"low budget\"], \"yaxis\": \"y\"}, {\"alignmentgroup\": \"True\", \"hoverlabel\": {\"namelength\": 0}, \"hovertemplate\": \"Common_words=%{y}<br>Count=%{x}\", \"legendgroup\": \"Common_words=year old\", \"marker\": {\"color\": \"#B6E880\"}, \"name\": \"Common_words=year old\", \"offsetgroup\": \"Common_words=year old\", \"orientation\": \"h\", \"showlegend\": true, \"textposition\": \"auto\", \"type\": \"bar\", \"x\": [864], \"xaxis\": \"x\", \"y\": [\"year old\"], \"yaxis\": \"y\"}, {\"alignmentgroup\": \"True\", \"hoverlabel\": {\"namelength\": 0}, \"hovertemplate\": \"Common_words=%{y}<br>Count=%{x}\", \"legendgroup\": \"Common_words=looks like\", \"marker\": {\"color\": \"#FF97FF\"}, \"name\": \"Common_words=looks like\", \"offsetgroup\": \"Common_words=looks like\", \"orientation\": \"h\", \"showlegend\": true, \"textposition\": \"auto\", \"type\": \"bar\", \"x\": [833], \"xaxis\": \"x\", \"y\": [\"looks like\"], \"yaxis\": \"y\"}, {\"alignmentgroup\": \"True\", \"hoverlabel\": {\"namelength\": 0}, \"hovertemplate\": \"Common_words=%{y}<br>Count=%{x}\", \"legendgroup\": \"Common_words=waste time\", \"marker\": {\"color\": \"#FECB52\"}, \"name\": \"Common_words=waste time\", \"offsetgroup\": \"Common_words=waste time\", \"orientation\": \"h\", \"showlegend\": true, \"textposition\": \"auto\", \"type\": \"bar\", \"x\": [779], \"xaxis\": \"x\", \"y\": [\"waste time\"], \"yaxis\": \"y\"}, {\"alignmentgroup\": \"True\", \"hoverlabel\": {\"namelength\": 0}, \"hovertemplate\": \"Common_words=%{y}<br>Count=%{x}\", \"legendgroup\": \"Common_words=see movie\", \"marker\": {\"color\": \"#636efa\"}, \"name\": \"Common_words=see movie\", \"offsetgroup\": \"Common_words=see movie\", \"orientation\": \"h\", \"showlegend\": true, \"textposition\": \"auto\", \"type\": \"bar\", \"x\": [757], \"xaxis\": \"x\", \"y\": [\"see movie\"], \"yaxis\": \"y\"}, {\"alignmentgroup\": \"True\", \"hoverlabel\": {\"namelength\": 0}, \"hovertemplate\": \"Common_words=%{y}<br>Count=%{x}\", \"legendgroup\": \"Common_words=much better\", \"marker\": {\"color\": \"#EF553B\"}, \"name\": \"Common_words=much better\", \"offsetgroup\": \"Common_words=much better\", \"orientation\": \"h\", \"showlegend\": true, \"textposition\": \"auto\", \"type\": \"bar\", \"x\": [737], \"xaxis\": \"x\", \"y\": [\"much better\"], \"yaxis\": \"y\"}, {\"alignmentgroup\": \"True\", \"hoverlabel\": {\"namelength\": 0}, \"hovertemplate\": \"Common_words=%{y}<br>Count=%{x}\", \"legendgroup\": \"Common_words=im sure\", \"marker\": {\"color\": \"#00cc96\"}, \"name\": \"Common_words=im sure\", \"offsetgroup\": \"Common_words=im sure\", \"orientation\": \"h\", \"showlegend\": true, \"textposition\": \"auto\", \"type\": \"bar\", \"x\": [733], \"xaxis\": \"x\", \"y\": [\"im sure\"], \"yaxis\": \"y\"}, {\"alignmentgroup\": \"True\", \"hoverlabel\": {\"namelength\": 0}, \"hovertemplate\": \"Common_words=%{y}<br>Count=%{x}\", \"legendgroup\": \"Common_words=first time\", \"marker\": {\"color\": \"#ab63fa\"}, \"name\": \"Common_words=first time\", \"offsetgroup\": \"Common_words=first time\", \"orientation\": \"h\", \"showlegend\": true, \"textposition\": \"auto\", \"type\": \"bar\", \"x\": [729], \"xaxis\": \"x\", \"y\": [\"first time\"], \"yaxis\": \"y\"}, {\"alignmentgroup\": \"True\", \"hoverlabel\": {\"namelength\": 0}, \"hovertemplate\": \"Common_words=%{y}<br>Count=%{x}\", \"legendgroup\": \"Common_words=new york\", \"marker\": {\"color\": \"#FFA15A\"}, \"name\": \"Common_words=new york\", \"offsetgroup\": \"Common_words=new york\", \"orientation\": \"h\", \"showlegend\": true, \"textposition\": \"auto\", \"type\": \"bar\", \"x\": [727], \"xaxis\": \"x\", \"y\": [\"new york\"], \"yaxis\": \"y\"}, {\"alignmentgroup\": \"True\", \"hoverlabel\": {\"namelength\": 0}, \"hovertemplate\": \"Common_words=%{y}<br>Count=%{x}\", \"legendgroup\": \"Common_words=good movie\", \"marker\": {\"color\": \"#19d3f3\"}, \"name\": \"Common_words=good movie\", \"offsetgroup\": \"Common_words=good movie\", \"orientation\": \"h\", \"showlegend\": true, \"textposition\": \"auto\", \"type\": \"bar\", \"x\": [704], \"xaxis\": \"x\", \"y\": [\"good movie\"], \"yaxis\": \"y\"}, {\"alignmentgroup\": \"True\", \"hoverlabel\": {\"namelength\": 0}, \"hovertemplate\": \"Common_words=%{y}<br>Count=%{x}\", \"legendgroup\": \"Common_words=dont think\", \"marker\": {\"color\": \"#FF6692\"}, \"name\": \"Common_words=dont think\", \"offsetgroup\": \"Common_words=dont think\", \"orientation\": \"h\", \"showlegend\": true, \"textposition\": \"auto\", \"type\": \"bar\", \"x\": [651], \"xaxis\": \"x\", \"y\": [\"dont think\"], \"yaxis\": \"y\"}, {\"alignmentgroup\": \"True\", \"hoverlabel\": {\"namelength\": 0}, \"hovertemplate\": \"Common_words=%{y}<br>Count=%{x}\", \"legendgroup\": \"Common_words=sci fi\", \"marker\": {\"color\": \"#B6E880\"}, \"name\": \"Common_words=sci fi\", \"offsetgroup\": \"Common_words=sci fi\", \"orientation\": \"h\", \"showlegend\": true, \"textposition\": \"auto\", \"type\": \"bar\", \"x\": [647], \"xaxis\": \"x\", \"y\": [\"sci fi\"], \"yaxis\": \"y\"}],\n",
              "                        {\"barmode\": \"relative\", \"height\": 700, \"legend\": {\"tracegroupgap\": 0}, \"template\": {\"data\": {\"bar\": [{\"error_x\": {\"color\": \"#2a3f5f\"}, \"error_y\": {\"color\": \"#2a3f5f\"}, \"marker\": {\"line\": {\"color\": \"#E5ECF6\", \"width\": 0.5}}, \"type\": \"bar\"}], \"barpolar\": [{\"marker\": {\"line\": {\"color\": \"#E5ECF6\", \"width\": 0.5}}, \"type\": \"barpolar\"}], \"carpet\": [{\"aaxis\": {\"endlinecolor\": \"#2a3f5f\", \"gridcolor\": \"white\", \"linecolor\": \"white\", \"minorgridcolor\": \"white\", \"startlinecolor\": \"#2a3f5f\"}, \"baxis\": {\"endlinecolor\": \"#2a3f5f\", \"gridcolor\": \"white\", \"linecolor\": \"white\", \"minorgridcolor\": \"white\", \"startlinecolor\": \"#2a3f5f\"}, \"type\": \"carpet\"}], \"choropleth\": [{\"colorbar\": {\"outlinewidth\": 0, \"ticks\": \"\"}, \"type\": \"choropleth\"}], \"contour\": [{\"colorbar\": {\"outlinewidth\": 0, \"ticks\": \"\"}, \"colorscale\": [[0.0, \"#0d0887\"], [0.1111111111111111, \"#46039f\"], [0.2222222222222222, \"#7201a8\"], [0.3333333333333333, \"#9c179e\"], [0.4444444444444444, \"#bd3786\"], [0.5555555555555556, \"#d8576b\"], [0.6666666666666666, \"#ed7953\"], [0.7777777777777778, \"#fb9f3a\"], [0.8888888888888888, \"#fdca26\"], [1.0, \"#f0f921\"]], \"type\": \"contour\"}], \"contourcarpet\": [{\"colorbar\": {\"outlinewidth\": 0, \"ticks\": \"\"}, \"type\": \"contourcarpet\"}], \"heatmap\": [{\"colorbar\": {\"outlinewidth\": 0, \"ticks\": \"\"}, \"colorscale\": [[0.0, \"#0d0887\"], [0.1111111111111111, \"#46039f\"], [0.2222222222222222, \"#7201a8\"], [0.3333333333333333, \"#9c179e\"], [0.4444444444444444, \"#bd3786\"], [0.5555555555555556, \"#d8576b\"], [0.6666666666666666, \"#ed7953\"], [0.7777777777777778, \"#fb9f3a\"], [0.8888888888888888, \"#fdca26\"], [1.0, \"#f0f921\"]], \"type\": \"heatmap\"}], \"heatmapgl\": [{\"colorbar\": {\"outlinewidth\": 0, \"ticks\": \"\"}, \"colorscale\": [[0.0, \"#0d0887\"], [0.1111111111111111, \"#46039f\"], [0.2222222222222222, \"#7201a8\"], [0.3333333333333333, \"#9c179e\"], [0.4444444444444444, \"#bd3786\"], [0.5555555555555556, \"#d8576b\"], [0.6666666666666666, \"#ed7953\"], [0.7777777777777778, \"#fb9f3a\"], [0.8888888888888888, \"#fdca26\"], [1.0, \"#f0f921\"]], \"type\": \"heatmapgl\"}], \"histogram\": [{\"marker\": {\"colorbar\": {\"outlinewidth\": 0, \"ticks\": \"\"}}, \"type\": \"histogram\"}], \"histogram2d\": [{\"colorbar\": {\"outlinewidth\": 0, \"ticks\": \"\"}, \"colorscale\": [[0.0, \"#0d0887\"], [0.1111111111111111, \"#46039f\"], [0.2222222222222222, \"#7201a8\"], [0.3333333333333333, \"#9c179e\"], [0.4444444444444444, \"#bd3786\"], [0.5555555555555556, \"#d8576b\"], [0.6666666666666666, \"#ed7953\"], [0.7777777777777778, \"#fb9f3a\"], [0.8888888888888888, \"#fdca26\"], [1.0, \"#f0f921\"]], \"type\": \"histogram2d\"}], \"histogram2dcontour\": [{\"colorbar\": {\"outlinewidth\": 0, \"ticks\": \"\"}, \"colorscale\": [[0.0, \"#0d0887\"], [0.1111111111111111, \"#46039f\"], [0.2222222222222222, \"#7201a8\"], [0.3333333333333333, \"#9c179e\"], [0.4444444444444444, \"#bd3786\"], [0.5555555555555556, \"#d8576b\"], [0.6666666666666666, \"#ed7953\"], [0.7777777777777778, \"#fb9f3a\"], [0.8888888888888888, \"#fdca26\"], [1.0, \"#f0f921\"]], \"type\": \"histogram2dcontour\"}], \"mesh3d\": [{\"colorbar\": {\"outlinewidth\": 0, \"ticks\": \"\"}, \"type\": \"mesh3d\"}], \"parcoords\": [{\"line\": {\"colorbar\": {\"outlinewidth\": 0, \"ticks\": \"\"}}, \"type\": \"parcoords\"}], \"pie\": [{\"automargin\": true, \"type\": \"pie\"}], \"scatter\": [{\"marker\": {\"colorbar\": {\"outlinewidth\": 0, \"ticks\": \"\"}}, \"type\": \"scatter\"}], \"scatter3d\": [{\"line\": {\"colorbar\": {\"outlinewidth\": 0, \"ticks\": \"\"}}, \"marker\": {\"colorbar\": {\"outlinewidth\": 0, \"ticks\": \"\"}}, \"type\": \"scatter3d\"}], \"scattercarpet\": [{\"marker\": {\"colorbar\": {\"outlinewidth\": 0, \"ticks\": \"\"}}, \"type\": \"scattercarpet\"}], \"scattergeo\": [{\"marker\": {\"colorbar\": {\"outlinewidth\": 0, \"ticks\": \"\"}}, \"type\": \"scattergeo\"}], \"scattergl\": [{\"marker\": {\"colorbar\": {\"outlinewidth\": 0, \"ticks\": \"\"}}, \"type\": \"scattergl\"}], \"scattermapbox\": [{\"marker\": {\"colorbar\": {\"outlinewidth\": 0, \"ticks\": \"\"}}, \"type\": \"scattermapbox\"}], \"scatterpolar\": [{\"marker\": {\"colorbar\": {\"outlinewidth\": 0, \"ticks\": \"\"}}, \"type\": \"scatterpolar\"}], \"scatterpolargl\": [{\"marker\": {\"colorbar\": {\"outlinewidth\": 0, \"ticks\": \"\"}}, \"type\": \"scatterpolargl\"}], \"scatterternary\": [{\"marker\": {\"colorbar\": {\"outlinewidth\": 0, \"ticks\": \"\"}}, \"type\": \"scatterternary\"}], \"surface\": [{\"colorbar\": {\"outlinewidth\": 0, \"ticks\": \"\"}, \"colorscale\": [[0.0, \"#0d0887\"], [0.1111111111111111, \"#46039f\"], [0.2222222222222222, \"#7201a8\"], [0.3333333333333333, \"#9c179e\"], [0.4444444444444444, \"#bd3786\"], [0.5555555555555556, \"#d8576b\"], [0.6666666666666666, \"#ed7953\"], [0.7777777777777778, \"#fb9f3a\"], [0.8888888888888888, \"#fdca26\"], [1.0, \"#f0f921\"]], \"type\": \"surface\"}], \"table\": [{\"cells\": {\"fill\": {\"color\": \"#EBF0F8\"}, \"line\": {\"color\": \"white\"}}, \"header\": {\"fill\": {\"color\": \"#C8D4E3\"}, \"line\": {\"color\": \"white\"}}, \"type\": \"table\"}]}, \"layout\": {\"annotationdefaults\": {\"arrowcolor\": \"#2a3f5f\", \"arrowhead\": 0, \"arrowwidth\": 1}, \"coloraxis\": {\"colorbar\": {\"outlinewidth\": 0, \"ticks\": \"\"}}, \"colorscale\": {\"diverging\": [[0, \"#8e0152\"], [0.1, \"#c51b7d\"], [0.2, \"#de77ae\"], [0.3, \"#f1b6da\"], [0.4, \"#fde0ef\"], [0.5, \"#f7f7f7\"], [0.6, \"#e6f5d0\"], [0.7, \"#b8e186\"], [0.8, \"#7fbc41\"], [0.9, \"#4d9221\"], [1, \"#276419\"]], \"sequential\": [[0.0, \"#0d0887\"], [0.1111111111111111, \"#46039f\"], [0.2222222222222222, \"#7201a8\"], [0.3333333333333333, \"#9c179e\"], [0.4444444444444444, \"#bd3786\"], [0.5555555555555556, \"#d8576b\"], [0.6666666666666666, \"#ed7953\"], [0.7777777777777778, \"#fb9f3a\"], [0.8888888888888888, \"#fdca26\"], [1.0, \"#f0f921\"]], \"sequentialminus\": [[0.0, \"#0d0887\"], [0.1111111111111111, \"#46039f\"], [0.2222222222222222, \"#7201a8\"], [0.3333333333333333, \"#9c179e\"], [0.4444444444444444, \"#bd3786\"], [0.5555555555555556, \"#d8576b\"], [0.6666666666666666, \"#ed7953\"], [0.7777777777777778, \"#fb9f3a\"], [0.8888888888888888, \"#fdca26\"], [1.0, \"#f0f921\"]]}, \"colorway\": [\"#636efa\", \"#EF553B\", \"#00cc96\", \"#ab63fa\", \"#FFA15A\", \"#19d3f3\", \"#FF6692\", \"#B6E880\", \"#FF97FF\", \"#FECB52\"], \"font\": {\"color\": \"#2a3f5f\"}, \"geo\": {\"bgcolor\": \"white\", \"lakecolor\": \"white\", \"landcolor\": \"#E5ECF6\", \"showlakes\": true, \"showland\": true, \"subunitcolor\": \"white\"}, \"hoverlabel\": {\"align\": \"left\"}, \"hovermode\": \"closest\", \"mapbox\": {\"style\": \"light\"}, \"paper_bgcolor\": \"white\", \"plot_bgcolor\": \"#E5ECF6\", \"polar\": {\"angularaxis\": {\"gridcolor\": \"white\", \"linecolor\": \"white\", \"ticks\": \"\"}, \"bgcolor\": \"#E5ECF6\", \"radialaxis\": {\"gridcolor\": \"white\", \"linecolor\": \"white\", \"ticks\": \"\"}}, \"scene\": {\"xaxis\": {\"backgroundcolor\": \"#E5ECF6\", \"gridcolor\": \"white\", \"gridwidth\": 2, \"linecolor\": \"white\", \"showbackground\": true, \"ticks\": \"\", \"zerolinecolor\": \"white\"}, \"yaxis\": {\"backgroundcolor\": \"#E5ECF6\", \"gridcolor\": \"white\", \"gridwidth\": 2, \"linecolor\": \"white\", \"showbackground\": true, \"ticks\": \"\", \"zerolinecolor\": \"white\"}, \"zaxis\": {\"backgroundcolor\": \"#E5ECF6\", \"gridcolor\": \"white\", \"gridwidth\": 2, \"linecolor\": \"white\", \"showbackground\": true, \"ticks\": \"\", \"zerolinecolor\": \"white\"}}, \"shapedefaults\": {\"line\": {\"color\": \"#2a3f5f\"}}, \"ternary\": {\"aaxis\": {\"gridcolor\": \"white\", \"linecolor\": \"white\", \"ticks\": \"\"}, \"baxis\": {\"gridcolor\": \"white\", \"linecolor\": \"white\", \"ticks\": \"\"}, \"bgcolor\": \"#E5ECF6\", \"caxis\": {\"gridcolor\": \"white\", \"linecolor\": \"white\", \"ticks\": \"\"}}, \"title\": {\"x\": 0.05}, \"xaxis\": {\"automargin\": true, \"gridcolor\": \"white\", \"linecolor\": \"white\", \"ticks\": \"\", \"title\": {\"standoff\": 15}, \"zerolinecolor\": \"white\", \"zerolinewidth\": 2}, \"yaxis\": {\"automargin\": true, \"gridcolor\": \"white\", \"linecolor\": \"white\", \"ticks\": \"\", \"title\": {\"standoff\": 15}, \"zerolinecolor\": \"white\", \"zerolinewidth\": 2}}}, \"title\": {\"text\": \"Frequently occuring Bigrams in Text\"}, \"width\": 700, \"xaxis\": {\"anchor\": \"y\", \"domain\": [0.0, 1.0], \"title\": {\"text\": \"Count\"}}, \"yaxis\": {\"anchor\": \"x\", \"categoryarray\": [\"sci fi\", \"dont think\", \"good movie\", \"new york\", \"first time\", \"im sure\", \"much better\", \"see movie\", \"waste time\", \"looks like\", \"year old\", \"low budget\", \"one best\", \"even though\", \"dont know\", \"special effects\", \"ive seen\", \"ever seen\"], \"categoryorder\": \"array\", \"domain\": [0.0, 1.0], \"title\": {\"text\": \"Common_words\"}}},\n",
              "                        {\"responsive\": true}\n",
              "                    ).then(function(){\n",
              "                            \n",
              "var gd = document.getElementById('7e03d00e-51a8-4e71-a1c5-e242ee878e2f');\n",
              "var x = new MutationObserver(function (mutations, observer) {{\n",
              "        var display = window.getComputedStyle(gd).display;\n",
              "        if (!display || display === 'none') {{\n",
              "            console.log([gd, 'removed!']);\n",
              "            Plotly.purge(gd);\n",
              "            observer.disconnect();\n",
              "        }}\n",
              "}});\n",
              "\n",
              "// Listen for the removal of the full notebook cells\n",
              "var notebookContainer = gd.closest('#notebook-container');\n",
              "if (notebookContainer) {{\n",
              "    x.observe(notebookContainer, {childList: true});\n",
              "}}\n",
              "\n",
              "// Listen for the clearing of the current output cell\n",
              "var outputEl = gd.closest('.output');\n",
              "if (outputEl) {{\n",
              "    x.observe(outputEl, {childList: true});\n",
              "}}\n",
              "\n",
              "                        })\n",
              "                };\n",
              "                \n",
              "            </script>\n",
              "        </div>\n",
              "</body>\n",
              "</html>"
            ]
          },
          "metadata": {
            "tags": []
          }
        }
      ]
    },
    {
      "cell_type": "code",
      "metadata": {
        "id": "rY0A5RMGmYYU"
      },
      "source": [
        "most_common_tri = frequent_words_text_ngrams(dt_base_new,18,3)\n",
        "most_common_tri = dict(most_common_tri)\n",
        "temp = pd.DataFrame(columns = [\"Common_words\" , 'Count'])\n",
        "temp[\"Common_words\"] = list(most_common_tri.keys())\n",
        "temp[\"Count\"] = list(most_common_tri.values())\n"
      ],
      "execution_count": 31,
      "outputs": []
    },
    {
      "cell_type": "code",
      "metadata": {
        "id": "dH8X--_kp0au",
        "colab": {
          "base_uri": "https://localhost:8080/",
          "height": 717
        },
        "outputId": "e9b5966c-f9b7-4ad3-e136-6d73abe2dc65"
      },
      "source": [
        "fig = px.bar(temp, x=\"Count\", y=\"Common_words\", title='Frequently occuring Trigrams in Text', orientation='h', \n",
        "             width=700, height=700,color='Common_words')\n",
        "fig.show()"
      ],
      "execution_count": 32,
      "outputs": [
        {
          "output_type": "display_data",
          "data": {
            "text/html": [
              "<html>\n",
              "<head><meta charset=\"utf-8\" /></head>\n",
              "<body>\n",
              "    <div>\n",
              "            <script src=\"https://cdnjs.cloudflare.com/ajax/libs/mathjax/2.7.5/MathJax.js?config=TeX-AMS-MML_SVG\"></script><script type=\"text/javascript\">if (window.MathJax) {MathJax.Hub.Config({SVG: {font: \"STIX-Web\"}});}</script>\n",
              "                <script type=\"text/javascript\">window.PlotlyConfig = {MathJaxConfig: 'local'};</script>\n",
              "        <script src=\"https://cdn.plot.ly/plotly-latest.min.js\"></script>    \n",
              "            <div id=\"2a39246c-950f-448e-b10e-49705244b5dd\" class=\"plotly-graph-div\" style=\"height:700px; width:700px;\"></div>\n",
              "            <script type=\"text/javascript\">\n",
              "                \n",
              "                    window.PLOTLYENV=window.PLOTLYENV || {};\n",
              "                    \n",
              "                if (document.getElementById(\"2a39246c-950f-448e-b10e-49705244b5dd\")) {\n",
              "                    Plotly.newPlot(\n",
              "                        '2a39246c-950f-448e-b10e-49705244b5dd',\n",
              "                        [{\"alignmentgroup\": \"True\", \"hoverlabel\": {\"namelength\": 0}, \"hovertemplate\": \"Common_words=%{y}<br>Count=%{x}\", \"legendgroup\": \"Common_words=ive ever seen\", \"marker\": {\"color\": \"#636efa\"}, \"name\": \"Common_words=ive ever seen\", \"offsetgroup\": \"Common_words=ive ever seen\", \"orientation\": \"h\", \"showlegend\": true, \"textposition\": \"auto\", \"type\": \"bar\", \"x\": [518], \"xaxis\": \"x\", \"y\": [\"ive ever seen\"], \"yaxis\": \"y\"}, {\"alignmentgroup\": \"True\", \"hoverlabel\": {\"namelength\": 0}, \"hovertemplate\": \"Common_words=%{y}<br>Count=%{x}\", \"legendgroup\": \"Common_words=dont waste time\", \"marker\": {\"color\": \"#EF553B\"}, \"name\": \"Common_words=dont waste time\", \"offsetgroup\": \"Common_words=dont waste time\", \"orientation\": \"h\", \"showlegend\": true, \"textposition\": \"auto\", \"type\": \"bar\", \"x\": [194], \"xaxis\": \"x\", \"y\": [\"dont waste time\"], \"yaxis\": \"y\"}, {\"alignmentgroup\": \"True\", \"hoverlabel\": {\"namelength\": 0}, \"hovertemplate\": \"Common_words=%{y}<br>Count=%{x}\", \"legendgroup\": \"Common_words=worst movie ever\", \"marker\": {\"color\": \"#00cc96\"}, \"name\": \"Common_words=worst movie ever\", \"offsetgroup\": \"Common_words=worst movie ever\", \"orientation\": \"h\", \"showlegend\": true, \"textposition\": \"auto\", \"type\": \"bar\", \"x\": [185], \"xaxis\": \"x\", \"y\": [\"worst movie ever\"], \"yaxis\": \"y\"}, {\"alignmentgroup\": \"True\", \"hoverlabel\": {\"namelength\": 0}, \"hovertemplate\": \"Common_words=%{y}<br>Count=%{x}\", \"legendgroup\": \"Common_words=one worst movies\", \"marker\": {\"color\": \"#ab63fa\"}, \"name\": \"Common_words=one worst movies\", \"offsetgroup\": \"Common_words=one worst movies\", \"orientation\": \"h\", \"showlegend\": true, \"textposition\": \"auto\", \"type\": \"bar\", \"x\": [164], \"xaxis\": \"x\", \"y\": [\"one worst movies\"], \"yaxis\": \"y\"}, {\"alignmentgroup\": \"True\", \"hoverlabel\": {\"namelength\": 0}, \"hovertemplate\": \"Common_words=%{y}<br>Count=%{x}\", \"legendgroup\": \"Common_words=new york city\", \"marker\": {\"color\": \"#FFA15A\"}, \"name\": \"Common_words=new york city\", \"offsetgroup\": \"Common_words=new york city\", \"orientation\": \"h\", \"showlegend\": true, \"textposition\": \"auto\", \"type\": \"bar\", \"x\": [157], \"xaxis\": \"x\", \"y\": [\"new york city\"], \"yaxis\": \"y\"}, {\"alignmentgroup\": \"True\", \"hoverlabel\": {\"namelength\": 0}, \"hovertemplate\": \"Common_words=%{y}<br>Count=%{x}\", \"legendgroup\": \"Common_words=dont get wrong\", \"marker\": {\"color\": \"#19d3f3\"}, \"name\": \"Common_words=dont get wrong\", \"offsetgroup\": \"Common_words=dont get wrong\", \"orientation\": \"h\", \"showlegend\": true, \"textposition\": \"auto\", \"type\": \"bar\", \"x\": [157], \"xaxis\": \"x\", \"y\": [\"dont get wrong\"], \"yaxis\": \"y\"}, {\"alignmentgroup\": \"True\", \"hoverlabel\": {\"namelength\": 0}, \"hovertemplate\": \"Common_words=%{y}<br>Count=%{x}\", \"legendgroup\": \"Common_words=movie ever seen\", \"marker\": {\"color\": \"#FF6692\"}, \"name\": \"Common_words=movie ever seen\", \"offsetgroup\": \"Common_words=movie ever seen\", \"orientation\": \"h\", \"showlegend\": true, \"textposition\": \"auto\", \"type\": \"bar\", \"x\": [156], \"xaxis\": \"x\", \"y\": [\"movie ever seen\"], \"yaxis\": \"y\"}, {\"alignmentgroup\": \"True\", \"hoverlabel\": {\"namelength\": 0}, \"hovertemplate\": \"Common_words=%{y}<br>Count=%{x}\", \"legendgroup\": \"Common_words=movie ever made\", \"marker\": {\"color\": \"#B6E880\"}, \"name\": \"Common_words=movie ever made\", \"offsetgroup\": \"Common_words=movie ever made\", \"orientation\": \"h\", \"showlegend\": true, \"textposition\": \"auto\", \"type\": \"bar\", \"x\": [111], \"xaxis\": \"x\", \"y\": [\"movie ever made\"], \"yaxis\": \"y\"}, {\"alignmentgroup\": \"True\", \"hoverlabel\": {\"namelength\": 0}, \"hovertemplate\": \"Common_words=%{y}<br>Count=%{x}\", \"legendgroup\": \"Common_words=world war ii\", \"marker\": {\"color\": \"#FF97FF\"}, \"name\": \"Common_words=world war ii\", \"offsetgroup\": \"Common_words=world war ii\", \"orientation\": \"h\", \"showlegend\": true, \"textposition\": \"auto\", \"type\": \"bar\", \"x\": [107], \"xaxis\": \"x\", \"y\": [\"world war ii\"], \"yaxis\": \"y\"}, {\"alignmentgroup\": \"True\", \"hoverlabel\": {\"namelength\": 0}, \"hovertemplate\": \"Common_words=%{y}<br>Count=%{x}\", \"legendgroup\": \"Common_words=worst movies ever\", \"marker\": {\"color\": \"#FECB52\"}, \"name\": \"Common_words=worst movies ever\", \"offsetgroup\": \"Common_words=worst movies ever\", \"orientation\": \"h\", \"showlegend\": true, \"textposition\": \"auto\", \"type\": \"bar\", \"x\": [107], \"xaxis\": \"x\", \"y\": [\"worst movies ever\"], \"yaxis\": \"y\"}, {\"alignmentgroup\": \"True\", \"hoverlabel\": {\"namelength\": 0}, \"hovertemplate\": \"Common_words=%{y}<br>Count=%{x}\", \"legendgroup\": \"Common_words=movie ive ever\", \"marker\": {\"color\": \"#636efa\"}, \"name\": \"Common_words=movie ive ever\", \"offsetgroup\": \"Common_words=movie ive ever\", \"orientation\": \"h\", \"showlegend\": true, \"textposition\": \"auto\", \"type\": \"bar\", \"x\": [104], \"xaxis\": \"x\", \"y\": [\"movie ive ever\"], \"yaxis\": \"y\"}, {\"alignmentgroup\": \"True\", \"hoverlabel\": {\"namelength\": 0}, \"hovertemplate\": \"Common_words=%{y}<br>Count=%{x}\", \"legendgroup\": \"Common_words=movies ever seen\", \"marker\": {\"color\": \"#EF553B\"}, \"name\": \"Common_words=movies ever seen\", \"offsetgroup\": \"Common_words=movies ever seen\", \"orientation\": \"h\", \"showlegend\": true, \"textposition\": \"auto\", \"type\": \"bar\", \"x\": [103], \"xaxis\": \"x\", \"y\": [\"movies ever seen\"], \"yaxis\": \"y\"}, {\"alignmentgroup\": \"True\", \"hoverlabel\": {\"namelength\": 0}, \"hovertemplate\": \"Common_words=%{y}<br>Count=%{x}\", \"legendgroup\": \"Common_words=movie ive seen\", \"marker\": {\"color\": \"#00cc96\"}, \"name\": \"Common_words=movie ive seen\", \"offsetgroup\": \"Common_words=movie ive seen\", \"orientation\": \"h\", \"showlegend\": true, \"textposition\": \"auto\", \"type\": \"bar\", \"x\": [97], \"xaxis\": \"x\", \"y\": [\"movie ive seen\"], \"yaxis\": \"y\"}, {\"alignmentgroup\": \"True\", \"hoverlabel\": {\"namelength\": 0}, \"hovertemplate\": \"Common_words=%{y}<br>Count=%{x}\", \"legendgroup\": \"Common_words=waste time money\", \"marker\": {\"color\": \"#ab63fa\"}, \"name\": \"Common_words=waste time money\", \"offsetgroup\": \"Common_words=waste time money\", \"orientation\": \"h\", \"showlegend\": true, \"textposition\": \"auto\", \"type\": \"bar\", \"x\": [91], \"xaxis\": \"x\", \"y\": [\"waste time money\"], \"yaxis\": \"y\"}, {\"alignmentgroup\": \"True\", \"hoverlabel\": {\"namelength\": 0}, \"hovertemplate\": \"Common_words=%{y}<br>Count=%{x}\", \"legendgroup\": \"Common_words=film ever made\", \"marker\": {\"color\": \"#FFA15A\"}, \"name\": \"Common_words=film ever made\", \"offsetgroup\": \"Common_words=film ever made\", \"orientation\": \"h\", \"showlegend\": true, \"textposition\": \"auto\", \"type\": \"bar\", \"x\": [89], \"xaxis\": \"x\", \"y\": [\"film ever made\"], \"yaxis\": \"y\"}, {\"alignmentgroup\": \"True\", \"hoverlabel\": {\"namelength\": 0}, \"hovertemplate\": \"Common_words=%{y}<br>Count=%{x}\", \"legendgroup\": \"Common_words=movies ever made\", \"marker\": {\"color\": \"#19d3f3\"}, \"name\": \"Common_words=movies ever made\", \"offsetgroup\": \"Common_words=movies ever made\", \"orientation\": \"h\", \"showlegend\": true, \"textposition\": \"auto\", \"type\": \"bar\", \"x\": [89], \"xaxis\": \"x\", \"y\": [\"movies ever made\"], \"yaxis\": \"y\"}, {\"alignmentgroup\": \"True\", \"hoverlabel\": {\"namelength\": 0}, \"hovertemplate\": \"Common_words=%{y}<br>Count=%{x}\", \"legendgroup\": \"Common_words=one best movies\", \"marker\": {\"color\": \"#FF6692\"}, \"name\": \"Common_words=one best movies\", \"offsetgroup\": \"Common_words=one best movies\", \"orientation\": \"h\", \"showlegend\": true, \"textposition\": \"auto\", \"type\": \"bar\", \"x\": [83], \"xaxis\": \"x\", \"y\": [\"one best movies\"], \"yaxis\": \"y\"}, {\"alignmentgroup\": \"True\", \"hoverlabel\": {\"namelength\": 0}, \"hovertemplate\": \"Common_words=%{y}<br>Count=%{x}\", \"legendgroup\": \"Common_words=seen long time\", \"marker\": {\"color\": \"#B6E880\"}, \"name\": \"Common_words=seen long time\", \"offsetgroup\": \"Common_words=seen long time\", \"orientation\": \"h\", \"showlegend\": true, \"textposition\": \"auto\", \"type\": \"bar\", \"x\": [83], \"xaxis\": \"x\", \"y\": [\"seen long time\"], \"yaxis\": \"y\"}],\n",
              "                        {\"barmode\": \"relative\", \"height\": 700, \"legend\": {\"tracegroupgap\": 0}, \"template\": {\"data\": {\"bar\": [{\"error_x\": {\"color\": \"#2a3f5f\"}, \"error_y\": {\"color\": \"#2a3f5f\"}, \"marker\": {\"line\": {\"color\": \"#E5ECF6\", \"width\": 0.5}}, \"type\": \"bar\"}], \"barpolar\": [{\"marker\": {\"line\": {\"color\": \"#E5ECF6\", \"width\": 0.5}}, \"type\": \"barpolar\"}], \"carpet\": [{\"aaxis\": {\"endlinecolor\": \"#2a3f5f\", \"gridcolor\": \"white\", \"linecolor\": \"white\", \"minorgridcolor\": \"white\", \"startlinecolor\": \"#2a3f5f\"}, \"baxis\": {\"endlinecolor\": \"#2a3f5f\", \"gridcolor\": \"white\", \"linecolor\": \"white\", \"minorgridcolor\": \"white\", \"startlinecolor\": \"#2a3f5f\"}, \"type\": \"carpet\"}], \"choropleth\": [{\"colorbar\": {\"outlinewidth\": 0, \"ticks\": \"\"}, \"type\": \"choropleth\"}], \"contour\": [{\"colorbar\": {\"outlinewidth\": 0, \"ticks\": \"\"}, \"colorscale\": [[0.0, \"#0d0887\"], [0.1111111111111111, \"#46039f\"], [0.2222222222222222, \"#7201a8\"], [0.3333333333333333, \"#9c179e\"], [0.4444444444444444, \"#bd3786\"], [0.5555555555555556, \"#d8576b\"], [0.6666666666666666, \"#ed7953\"], [0.7777777777777778, \"#fb9f3a\"], [0.8888888888888888, \"#fdca26\"], [1.0, \"#f0f921\"]], \"type\": \"contour\"}], \"contourcarpet\": [{\"colorbar\": {\"outlinewidth\": 0, \"ticks\": \"\"}, \"type\": \"contourcarpet\"}], \"heatmap\": [{\"colorbar\": {\"outlinewidth\": 0, \"ticks\": \"\"}, \"colorscale\": [[0.0, \"#0d0887\"], [0.1111111111111111, \"#46039f\"], [0.2222222222222222, \"#7201a8\"], [0.3333333333333333, \"#9c179e\"], [0.4444444444444444, \"#bd3786\"], [0.5555555555555556, \"#d8576b\"], [0.6666666666666666, \"#ed7953\"], [0.7777777777777778, \"#fb9f3a\"], [0.8888888888888888, \"#fdca26\"], [1.0, \"#f0f921\"]], \"type\": \"heatmap\"}], \"heatmapgl\": [{\"colorbar\": {\"outlinewidth\": 0, \"ticks\": \"\"}, \"colorscale\": [[0.0, \"#0d0887\"], [0.1111111111111111, \"#46039f\"], [0.2222222222222222, \"#7201a8\"], [0.3333333333333333, \"#9c179e\"], [0.4444444444444444, \"#bd3786\"], [0.5555555555555556, \"#d8576b\"], [0.6666666666666666, \"#ed7953\"], [0.7777777777777778, \"#fb9f3a\"], [0.8888888888888888, \"#fdca26\"], [1.0, \"#f0f921\"]], \"type\": \"heatmapgl\"}], \"histogram\": [{\"marker\": {\"colorbar\": {\"outlinewidth\": 0, \"ticks\": \"\"}}, \"type\": \"histogram\"}], \"histogram2d\": [{\"colorbar\": {\"outlinewidth\": 0, \"ticks\": \"\"}, \"colorscale\": [[0.0, \"#0d0887\"], [0.1111111111111111, \"#46039f\"], [0.2222222222222222, \"#7201a8\"], [0.3333333333333333, \"#9c179e\"], [0.4444444444444444, \"#bd3786\"], [0.5555555555555556, \"#d8576b\"], [0.6666666666666666, \"#ed7953\"], [0.7777777777777778, \"#fb9f3a\"], [0.8888888888888888, \"#fdca26\"], [1.0, \"#f0f921\"]], \"type\": \"histogram2d\"}], \"histogram2dcontour\": [{\"colorbar\": {\"outlinewidth\": 0, \"ticks\": \"\"}, \"colorscale\": [[0.0, \"#0d0887\"], [0.1111111111111111, \"#46039f\"], [0.2222222222222222, \"#7201a8\"], [0.3333333333333333, \"#9c179e\"], [0.4444444444444444, \"#bd3786\"], [0.5555555555555556, \"#d8576b\"], [0.6666666666666666, \"#ed7953\"], [0.7777777777777778, \"#fb9f3a\"], [0.8888888888888888, \"#fdca26\"], [1.0, \"#f0f921\"]], \"type\": \"histogram2dcontour\"}], \"mesh3d\": [{\"colorbar\": {\"outlinewidth\": 0, \"ticks\": \"\"}, \"type\": \"mesh3d\"}], \"parcoords\": [{\"line\": {\"colorbar\": {\"outlinewidth\": 0, \"ticks\": \"\"}}, \"type\": \"parcoords\"}], \"pie\": [{\"automargin\": true, \"type\": \"pie\"}], \"scatter\": [{\"marker\": {\"colorbar\": {\"outlinewidth\": 0, \"ticks\": \"\"}}, \"type\": \"scatter\"}], \"scatter3d\": [{\"line\": {\"colorbar\": {\"outlinewidth\": 0, \"ticks\": \"\"}}, \"marker\": {\"colorbar\": {\"outlinewidth\": 0, \"ticks\": \"\"}}, \"type\": \"scatter3d\"}], \"scattercarpet\": [{\"marker\": {\"colorbar\": {\"outlinewidth\": 0, \"ticks\": \"\"}}, \"type\": \"scattercarpet\"}], \"scattergeo\": [{\"marker\": {\"colorbar\": {\"outlinewidth\": 0, \"ticks\": \"\"}}, \"type\": \"scattergeo\"}], \"scattergl\": [{\"marker\": {\"colorbar\": {\"outlinewidth\": 0, \"ticks\": \"\"}}, \"type\": \"scattergl\"}], \"scattermapbox\": [{\"marker\": {\"colorbar\": {\"outlinewidth\": 0, \"ticks\": \"\"}}, \"type\": \"scattermapbox\"}], \"scatterpolar\": [{\"marker\": {\"colorbar\": {\"outlinewidth\": 0, \"ticks\": \"\"}}, \"type\": \"scatterpolar\"}], \"scatterpolargl\": [{\"marker\": {\"colorbar\": {\"outlinewidth\": 0, \"ticks\": \"\"}}, \"type\": \"scatterpolargl\"}], \"scatterternary\": [{\"marker\": {\"colorbar\": {\"outlinewidth\": 0, \"ticks\": \"\"}}, \"type\": \"scatterternary\"}], \"surface\": [{\"colorbar\": {\"outlinewidth\": 0, \"ticks\": \"\"}, \"colorscale\": [[0.0, \"#0d0887\"], [0.1111111111111111, \"#46039f\"], [0.2222222222222222, \"#7201a8\"], [0.3333333333333333, \"#9c179e\"], [0.4444444444444444, \"#bd3786\"], [0.5555555555555556, \"#d8576b\"], [0.6666666666666666, \"#ed7953\"], [0.7777777777777778, \"#fb9f3a\"], [0.8888888888888888, \"#fdca26\"], [1.0, \"#f0f921\"]], \"type\": \"surface\"}], \"table\": [{\"cells\": {\"fill\": {\"color\": \"#EBF0F8\"}, \"line\": {\"color\": \"white\"}}, \"header\": {\"fill\": {\"color\": \"#C8D4E3\"}, \"line\": {\"color\": \"white\"}}, \"type\": \"table\"}]}, \"layout\": {\"annotationdefaults\": {\"arrowcolor\": \"#2a3f5f\", \"arrowhead\": 0, \"arrowwidth\": 1}, \"coloraxis\": {\"colorbar\": {\"outlinewidth\": 0, \"ticks\": \"\"}}, \"colorscale\": {\"diverging\": [[0, \"#8e0152\"], [0.1, \"#c51b7d\"], [0.2, \"#de77ae\"], [0.3, \"#f1b6da\"], [0.4, \"#fde0ef\"], [0.5, \"#f7f7f7\"], [0.6, \"#e6f5d0\"], [0.7, \"#b8e186\"], [0.8, \"#7fbc41\"], [0.9, \"#4d9221\"], [1, \"#276419\"]], \"sequential\": [[0.0, \"#0d0887\"], [0.1111111111111111, \"#46039f\"], [0.2222222222222222, \"#7201a8\"], [0.3333333333333333, \"#9c179e\"], [0.4444444444444444, \"#bd3786\"], [0.5555555555555556, \"#d8576b\"], [0.6666666666666666, \"#ed7953\"], [0.7777777777777778, \"#fb9f3a\"], [0.8888888888888888, \"#fdca26\"], [1.0, \"#f0f921\"]], \"sequentialminus\": [[0.0, \"#0d0887\"], [0.1111111111111111, \"#46039f\"], [0.2222222222222222, \"#7201a8\"], [0.3333333333333333, \"#9c179e\"], [0.4444444444444444, \"#bd3786\"], [0.5555555555555556, \"#d8576b\"], [0.6666666666666666, \"#ed7953\"], [0.7777777777777778, \"#fb9f3a\"], [0.8888888888888888, \"#fdca26\"], [1.0, \"#f0f921\"]]}, \"colorway\": [\"#636efa\", \"#EF553B\", \"#00cc96\", \"#ab63fa\", \"#FFA15A\", \"#19d3f3\", \"#FF6692\", \"#B6E880\", \"#FF97FF\", \"#FECB52\"], \"font\": {\"color\": \"#2a3f5f\"}, \"geo\": {\"bgcolor\": \"white\", \"lakecolor\": \"white\", \"landcolor\": \"#E5ECF6\", \"showlakes\": true, \"showland\": true, \"subunitcolor\": \"white\"}, \"hoverlabel\": {\"align\": \"left\"}, \"hovermode\": \"closest\", \"mapbox\": {\"style\": \"light\"}, \"paper_bgcolor\": \"white\", \"plot_bgcolor\": \"#E5ECF6\", \"polar\": {\"angularaxis\": {\"gridcolor\": \"white\", \"linecolor\": \"white\", \"ticks\": \"\"}, \"bgcolor\": \"#E5ECF6\", \"radialaxis\": {\"gridcolor\": \"white\", \"linecolor\": \"white\", \"ticks\": \"\"}}, \"scene\": {\"xaxis\": {\"backgroundcolor\": \"#E5ECF6\", \"gridcolor\": \"white\", \"gridwidth\": 2, \"linecolor\": \"white\", \"showbackground\": true, \"ticks\": \"\", \"zerolinecolor\": \"white\"}, \"yaxis\": {\"backgroundcolor\": \"#E5ECF6\", \"gridcolor\": \"white\", \"gridwidth\": 2, \"linecolor\": \"white\", \"showbackground\": true, \"ticks\": \"\", \"zerolinecolor\": \"white\"}, \"zaxis\": {\"backgroundcolor\": \"#E5ECF6\", \"gridcolor\": \"white\", \"gridwidth\": 2, \"linecolor\": \"white\", \"showbackground\": true, \"ticks\": \"\", \"zerolinecolor\": \"white\"}}, \"shapedefaults\": {\"line\": {\"color\": \"#2a3f5f\"}}, \"ternary\": {\"aaxis\": {\"gridcolor\": \"white\", \"linecolor\": \"white\", \"ticks\": \"\"}, \"baxis\": {\"gridcolor\": \"white\", \"linecolor\": \"white\", \"ticks\": \"\"}, \"bgcolor\": \"#E5ECF6\", \"caxis\": {\"gridcolor\": \"white\", \"linecolor\": \"white\", \"ticks\": \"\"}}, \"title\": {\"x\": 0.05}, \"xaxis\": {\"automargin\": true, \"gridcolor\": \"white\", \"linecolor\": \"white\", \"ticks\": \"\", \"title\": {\"standoff\": 15}, \"zerolinecolor\": \"white\", \"zerolinewidth\": 2}, \"yaxis\": {\"automargin\": true, \"gridcolor\": \"white\", \"linecolor\": \"white\", \"ticks\": \"\", \"title\": {\"standoff\": 15}, \"zerolinecolor\": \"white\", \"zerolinewidth\": 2}}}, \"title\": {\"text\": \"Frequently occuring Trigrams in Text\"}, \"width\": 700, \"xaxis\": {\"anchor\": \"y\", \"domain\": [0.0, 1.0], \"title\": {\"text\": \"Count\"}}, \"yaxis\": {\"anchor\": \"x\", \"categoryarray\": [\"seen long time\", \"one best movies\", \"movies ever made\", \"film ever made\", \"waste time money\", \"movie ive seen\", \"movies ever seen\", \"movie ive ever\", \"worst movies ever\", \"world war ii\", \"movie ever made\", \"movie ever seen\", \"dont get wrong\", \"new york city\", \"one worst movies\", \"worst movie ever\", \"dont waste time\", \"ive ever seen\"], \"categoryorder\": \"array\", \"domain\": [0.0, 1.0], \"title\": {\"text\": \"Common_words\"}}},\n",
              "                        {\"responsive\": true}\n",
              "                    ).then(function(){\n",
              "                            \n",
              "var gd = document.getElementById('2a39246c-950f-448e-b10e-49705244b5dd');\n",
              "var x = new MutationObserver(function (mutations, observer) {{\n",
              "        var display = window.getComputedStyle(gd).display;\n",
              "        if (!display || display === 'none') {{\n",
              "            console.log([gd, 'removed!']);\n",
              "            Plotly.purge(gd);\n",
              "            observer.disconnect();\n",
              "        }}\n",
              "}});\n",
              "\n",
              "// Listen for the removal of the full notebook cells\n",
              "var notebookContainer = gd.closest('#notebook-container');\n",
              "if (notebookContainer) {{\n",
              "    x.observe(notebookContainer, {childList: true});\n",
              "}}\n",
              "\n",
              "// Listen for the clearing of the current output cell\n",
              "var outputEl = gd.closest('.output');\n",
              "if (outputEl) {{\n",
              "    x.observe(outputEl, {childList: true});\n",
              "}}\n",
              "\n",
              "                        })\n",
              "                };\n",
              "                \n",
              "            </script>\n",
              "        </div>\n",
              "</body>\n",
              "</html>"
            ]
          },
          "metadata": {
            "tags": []
          }
        }
      ]
    },
    {
      "cell_type": "markdown",
      "metadata": {
        "id": "kUiHnVx8RbxG"
      },
      "source": [
        "### Text Normalization"
      ]
    },
    {
      "cell_type": "markdown",
      "metadata": {
        "id": "IjVZFBbduWsF"
      },
      "source": [
        "**Stemming**"
      ]
    },
    {
      "cell_type": "code",
      "metadata": {
        "id": "Ylk8a0VGuTtO"
      },
      "source": [
        "def get_stemmed_text(text):\n",
        "    from nltk.stem.porter import PorterStemmer\n",
        "    stemmer = PorterStemmer()\n",
        "    return ' '.join([stemmer.stem(word) for word in text.split()])\n",
        "\n",
        "dt_base['Movie Review']=dt_base['Movie Review'].apply(get_stemmed_text)\n",
        "dt_test_base['Movie Review']=dt_test_base['Movie Review'].apply(get_stemmed_text)"
      ],
      "execution_count": 33,
      "outputs": []
    },
    {
      "cell_type": "code",
      "metadata": {
        "colab": {
          "base_uri": "https://localhost:8080/",
          "height": 199
        },
        "id": "Z_XA5i7bEIbZ",
        "outputId": "5a97ce4b-5542-4992-9687-663edc5d9938"
      },
      "source": [
        "dt_base.head()"
      ],
      "execution_count": 34,
      "outputs": [
        {
          "output_type": "execute_result",
          "data": {
            "text/html": [
              "<div>\n",
              "<style scoped>\n",
              "    .dataframe tbody tr th:only-of-type {\n",
              "        vertical-align: middle;\n",
              "    }\n",
              "\n",
              "    .dataframe tbody tr th {\n",
              "        vertical-align: top;\n",
              "    }\n",
              "\n",
              "    .dataframe thead th {\n",
              "        text-align: right;\n",
              "    }\n",
              "</style>\n",
              "<table border=\"1\" class=\"dataframe\">\n",
              "  <thead>\n",
              "    <tr style=\"text-align: right;\">\n",
              "      <th></th>\n",
              "      <th>Movie Review</th>\n",
              "      <th>Target</th>\n",
              "    </tr>\n",
              "  </thead>\n",
              "  <tbody>\n",
              "    <tr>\n",
              "      <th>0</th>\n",
              "      <td>bromwel high is a cartoon comedi it ran at the...</td>\n",
              "      <td>1</td>\n",
              "    </tr>\n",
              "    <tr>\n",
              "      <th>1</th>\n",
              "      <td>homeless or houseless as georg carlin state ha...</td>\n",
              "      <td>1</td>\n",
              "    </tr>\n",
              "    <tr>\n",
              "      <th>2</th>\n",
              "      <td>brilliant over act by lesley ann warren best d...</td>\n",
              "      <td>1</td>\n",
              "    </tr>\n",
              "    <tr>\n",
              "      <th>3</th>\n",
              "      <td>thi is easili the most underr film inn the bro...</td>\n",
              "      <td>1</td>\n",
              "    </tr>\n",
              "    <tr>\n",
              "      <th>4</th>\n",
              "      <td>thi is not the typic mel brook film it wa much...</td>\n",
              "      <td>1</td>\n",
              "    </tr>\n",
              "  </tbody>\n",
              "</table>\n",
              "</div>"
            ],
            "text/plain": [
              "                                        Movie Review  Target\n",
              "0  bromwel high is a cartoon comedi it ran at the...       1\n",
              "1  homeless or houseless as georg carlin state ha...       1\n",
              "2  brilliant over act by lesley ann warren best d...       1\n",
              "3  thi is easili the most underr film inn the bro...       1\n",
              "4  thi is not the typic mel brook film it wa much...       1"
            ]
          },
          "metadata": {
            "tags": []
          },
          "execution_count": 34
        }
      ]
    },
    {
      "cell_type": "markdown",
      "metadata": {
        "id": "FqmIyU4Duuxc"
      },
      "source": [
        "**Lemmatization**"
      ]
    },
    {
      "cell_type": "code",
      "metadata": {
        "id": "o9T_VSQbuzkG",
        "colab": {
          "base_uri": "https://localhost:8080/"
        },
        "outputId": "8d0058fd-811c-4ee7-8f37-534d7ba95363"
      },
      "source": [
        "import nltk\n",
        "from nltk.stem import WordNetLemmatizer\n",
        "nltk.download('wordnet')\n",
        "\n",
        "def get_lemmatized_text(text):\n",
        "    \n",
        "    lemmatizer = WordNetLemmatizer()\n",
        "\n",
        "    return ' '.join([lemmatizer.lemmatize(word) for word in text.split()])\n",
        "\n",
        "dt_base['Movie Review']=dt_base['Movie Review'].apply(get_lemmatized_text)\n",
        "dt_test_base['Movie Review']=dt_test_base['Movie Review'].apply(get_lemmatized_text)"
      ],
      "execution_count": 35,
      "outputs": [
        {
          "output_type": "stream",
          "text": [
            "[nltk_data] Downloading package wordnet to /root/nltk_data...\n",
            "[nltk_data]   Unzipping corpora/wordnet.zip.\n"
          ],
          "name": "stdout"
        }
      ]
    },
    {
      "cell_type": "code",
      "metadata": {
        "colab": {
          "base_uri": "https://localhost:8080/",
          "height": 199
        },
        "id": "j0hc8sPsSBiK",
        "outputId": "8d015d5c-1571-4bfb-c392-afe881ca8c0f"
      },
      "source": [
        "dt_base.head()"
      ],
      "execution_count": 36,
      "outputs": [
        {
          "output_type": "execute_result",
          "data": {
            "text/html": [
              "<div>\n",
              "<style scoped>\n",
              "    .dataframe tbody tr th:only-of-type {\n",
              "        vertical-align: middle;\n",
              "    }\n",
              "\n",
              "    .dataframe tbody tr th {\n",
              "        vertical-align: top;\n",
              "    }\n",
              "\n",
              "    .dataframe thead th {\n",
              "        text-align: right;\n",
              "    }\n",
              "</style>\n",
              "<table border=\"1\" class=\"dataframe\">\n",
              "  <thead>\n",
              "    <tr style=\"text-align: right;\">\n",
              "      <th></th>\n",
              "      <th>Movie Review</th>\n",
              "      <th>Target</th>\n",
              "    </tr>\n",
              "  </thead>\n",
              "  <tbody>\n",
              "    <tr>\n",
              "      <th>0</th>\n",
              "      <td>bromwel high is a cartoon comedi it ran at the...</td>\n",
              "      <td>1</td>\n",
              "    </tr>\n",
              "    <tr>\n",
              "      <th>1</th>\n",
              "      <td>homeless or houseless a georg carlin state ha ...</td>\n",
              "      <td>1</td>\n",
              "    </tr>\n",
              "    <tr>\n",
              "      <th>2</th>\n",
              "      <td>brilliant over act by lesley ann warren best d...</td>\n",
              "      <td>1</td>\n",
              "    </tr>\n",
              "    <tr>\n",
              "      <th>3</th>\n",
              "      <td>thi is easili the most underr film inn the bro...</td>\n",
              "      <td>1</td>\n",
              "    </tr>\n",
              "    <tr>\n",
              "      <th>4</th>\n",
              "      <td>thi is not the typic mel brook film it wa much...</td>\n",
              "      <td>1</td>\n",
              "    </tr>\n",
              "  </tbody>\n",
              "</table>\n",
              "</div>"
            ],
            "text/plain": [
              "                                        Movie Review  Target\n",
              "0  bromwel high is a cartoon comedi it ran at the...       1\n",
              "1  homeless or houseless a georg carlin state ha ...       1\n",
              "2  brilliant over act by lesley ann warren best d...       1\n",
              "3  thi is easili the most underr film inn the bro...       1\n",
              "4  thi is not the typic mel brook film it wa much...       1"
            ]
          },
          "metadata": {
            "tags": []
          },
          "execution_count": 36
        }
      ]
    },
    {
      "cell_type": "markdown",
      "metadata": {
        "id": "Lzs2C2ifzcSb"
      },
      "source": [
        "**Feature extraction and Representation**"
      ]
    },
    {
      "cell_type": "markdown",
      "metadata": {
        "id": "IhU9Wkd3syIG"
      },
      "source": [
        "### Using TFIDF for Text vectorization and representation"
      ]
    },
    {
      "cell_type": "code",
      "metadata": {
        "id": "QH4vhGp2zW0R"
      },
      "source": [
        "from sklearn.feature_extraction.text import TfidfVectorizer\n",
        "\n",
        "tfidf_vectorizer = TfidfVectorizer(stop_words=stop_words)\n",
        "tfidf_vectorizer.fit(dt_base['Movie Review'])\n",
        "tfidf_X = tfidf_vectorizer.transform(dt_base['Movie Review'])\n",
        "tfidf_X_test = tfidf_vectorizer.transform(dt_test_base['Movie Review'])\n"
      ],
      "execution_count": 37,
      "outputs": []
    },
    {
      "cell_type": "markdown",
      "metadata": {
        "id": "LI-ntrwzUBk_"
      },
      "source": [
        "Splitting the data vectorized using TFIDF into testing and training sets"
      ]
    },
    {
      "cell_type": "code",
      "metadata": {
        "id": "0VmpigHUfMZ-"
      },
      "source": [
        "from sklearn.model_selection import train_test_split\n",
        "\n",
        "X_train_tfidf, X_val_tfidf, y_train_tfidf, y_val_tfidf = train_test_split( tfidf_X, dt_base['Target'], \n",
        "                                                  train_size = 0.75,random_state=2)\n",
        "\n",
        "## Evaluation TFIDF data for final model - tfidf_X_test"
      ],
      "execution_count": 38,
      "outputs": []
    },
    {
      "cell_type": "markdown",
      "metadata": {
        "id": "VJCxa8oys5Vh"
      },
      "source": [
        "### Using N gram model (range 1 to 3) for vector encoding of features"
      ]
    },
    {
      "cell_type": "code",
      "metadata": {
        "id": "uC6wZN7VfMK3"
      },
      "source": [
        "from sklearn.feature_extraction.text import CountVectorizer\n",
        "\n",
        "ngram_vectorizer = CountVectorizer(binary=True, ngram_range=(1, 3),stop_words=stop_words)\n",
        "## Allows trigrams to unigrams \n",
        "ngram_vectorizer.fit(dt_base['Movie Review'])\n",
        "Ngram_X = ngram_vectorizer.transform(dt_base['Movie Review'])\n",
        "Ngram_X_test = ngram_vectorizer.transform(dt_test_base['Movie Review'])"
      ],
      "execution_count": 39,
      "outputs": []
    },
    {
      "cell_type": "markdown",
      "metadata": {
        "id": "q6PV3aho1zS1"
      },
      "source": [
        "Splitting the data vectorized using Ngram model into testing and training sets"
      ]
    },
    {
      "cell_type": "code",
      "metadata": {
        "id": "TIb1ynJ-fMNq"
      },
      "source": [
        "from sklearn.model_selection import train_test_split\n",
        "\n",
        "X_train_ngram, X_val_ngram, y_train_ngram, y_val_ngram = train_test_split( Ngram_X , dt_base['Target'], \n",
        "                                                  train_size = 0.75,random_state=2)\n",
        "\n",
        "## Evaluation Ngram data for final model - Ngram_X_test"
      ],
      "execution_count": 40,
      "outputs": []
    },
    {
      "cell_type": "markdown",
      "metadata": {
        "id": "FeWdZs_b22ll"
      },
      "source": [
        "### Logistic Regression Model Building"
      ]
    },
    {
      "cell_type": "markdown",
      "metadata": {
        "id": "3w8LyEl1_493"
      },
      "source": [
        "> Using TFIDF vectorization"
      ]
    },
    {
      "cell_type": "code",
      "metadata": {
        "id": "o_kiDFaDfMT6",
        "colab": {
          "base_uri": "https://localhost:8080/"
        },
        "outputId": "ab7db157-8b8a-4bce-bb95-36ddb885e1cd"
      },
      "source": [
        "from sklearn.linear_model import LogisticRegression\n",
        "from sklearn.metrics import accuracy_score\n",
        "from sklearn.metrics import recall_score\n",
        "from sklearn.metrics import f1_score\n",
        "from sklearn.metrics import precision_score\n",
        "\n",
        "\n",
        "for c in [0.01, 0.05, 0.25, 0.5, 1]:\n",
        "    \n",
        "    lr = LogisticRegression(C=c)\n",
        "    lr.fit(X_train_tfidf, y_train_tfidf)\n",
        "    print (\"Accuracy for C=%s: %s\" \n",
        "           % (c, accuracy_score(y_val_tfidf, lr.predict(X_val_tfidf))))"
      ],
      "execution_count": 41,
      "outputs": [
        {
          "output_type": "stream",
          "text": [
            "Accuracy for C=0.01: 0.80272\n",
            "Accuracy for C=0.05: 0.83904\n",
            "Accuracy for C=0.25: 0.87088\n",
            "Accuracy for C=0.5: 0.87824\n",
            "Accuracy for C=1: 0.88336\n"
          ],
          "name": "stdout"
        }
      ]
    },
    {
      "cell_type": "code",
      "metadata": {
        "id": "qvWzMuaMu7ZL"
      },
      "source": [
        "results=pd.DataFrame(columns=['Final Accuracy', 'Recall Score', 'f1 Score', 'Precision Score'])"
      ],
      "execution_count": 45,
      "outputs": []
    },
    {
      "cell_type": "code",
      "metadata": {
        "id": "j7LNAkQkfMWz",
        "colab": {
          "base_uri": "https://localhost:8080/"
        },
        "outputId": "2875a059-8d9c-4ff8-dad3-5a52775450ac"
      },
      "source": [
        "final_tfidf = LogisticRegression(C=1)\n",
        "final_tfidf.fit(tfidf_X, target)\n",
        "print(\"Final Accuracy: %s\" \n",
        "       % accuracy_score(target, final_tfidf.predict(tfidf_X_test)))\n",
        "print(\"Recall Score: %s\" \n",
        "      % recall_score(target, final_tfidf.predict(tfidf_X_test)))\n",
        "print(\"f1 Score: %s\"\n",
        "      % f1_score(target, final_tfidf.predict(tfidf_X_test)))\n",
        "print(\"Precision Score: %s\"\n",
        "      % precision_score(target, final_tfidf.predict(tfidf_X_test)))\n",
        "new_row=[accuracy_score(target, final_tfidf.predict(tfidf_X_test)),\n",
        "                              recall_score(target, final_tfidf.predict(tfidf_X_test)),\n",
        "                              f1_score(target, final_tfidf.predict(tfidf_X_test)),\n",
        "                              precision_score(target, final_tfidf.predict(tfidf_X_test))]\n",
        "results.loc[len(results)]=new_row\n"
      ],
      "execution_count": 46,
      "outputs": [
        {
          "output_type": "stream",
          "text": [
            "Final Accuracy: 0.88208\n",
            "Recall Score: 0.88152\n",
            "f1 Score: 0.8820139277995678\n",
            "Precision Score: 0.8825084094185488\n"
          ],
          "name": "stdout"
        }
      ]
    },
    {
      "cell_type": "markdown",
      "metadata": {
        "id": "Mat6ryUiAHES"
      },
      "source": [
        "> Using Ngram model based vectorization"
      ]
    },
    {
      "cell_type": "code",
      "metadata": {
        "id": "r2t-GQc3fMgB",
        "colab": {
          "base_uri": "https://localhost:8080/"
        },
        "outputId": "697222af-d00b-423d-d81e-e6fb4544e45a"
      },
      "source": [
        "for c in [0.01, 0.05, 0.25, 0.5, 1]:\n",
        "    \n",
        "    lr = LogisticRegression(C=c, max_iter=1000)\n",
        "    lr.fit(X_train_ngram, y_train_ngram)\n",
        "    print (\"Accuracy for C=%s: %s\" \n",
        "           % (c, accuracy_score(y_val_ngram, lr.predict(X_val_ngram))))"
      ],
      "execution_count": 47,
      "outputs": [
        {
          "output_type": "stream",
          "text": [
            "Accuracy for C=0.01: 0.88432\n",
            "Accuracy for C=0.05: 0.88896\n",
            "Accuracy for C=0.25: 0.89056\n",
            "Accuracy for C=0.5: 0.89104\n",
            "Accuracy for C=1: 0.89232\n"
          ],
          "name": "stdout"
        }
      ]
    },
    {
      "cell_type": "code",
      "metadata": {
        "colab": {
          "base_uri": "https://localhost:8080/"
        },
        "id": "We9x5hT91KhR",
        "outputId": "f2a0276c-ef63-44e7-9e1b-14c0ab25f969"
      },
      "source": [
        "final_ngram = LogisticRegression(C=0.5)\n",
        "final_ngram.fit(Ngram_X, target)\n",
        "print(\"Final Accuracy: %s\" \n",
        "       % accuracy_score(target, final_ngram.predict(Ngram_X_test)))\n",
        "print(\"Recall Score: %s\" \n",
        "      % recall_score(target, final_ngram.predict(Ngram_X_test)))\n",
        "print(\"f1 Score: %s\"\n",
        "      % f1_score(target, final_ngram.predict(Ngram_X_test)))\n",
        "print(\"Precision Score: %s\"\n",
        "      % precision_score(target, final_ngram.predict(Ngram_X_test)))\n",
        "\n",
        "new_row=[accuracy_score(target, final_ngram.predict(Ngram_X_test)),\n",
        "                              recall_score(target, final_ngram.predict(Ngram_X_test)),\n",
        "                              f1_score(target, final_ngram.predict(Ngram_X_test)),\n",
        "                              precision_score(target, final_ngram.predict(Ngram_X_test))]\n",
        "results.loc[len(results)]=new_row"
      ],
      "execution_count": 50,
      "outputs": [
        {
          "output_type": "stream",
          "text": [
            "Final Accuracy: 0.90076\n",
            "Recall Score: 0.9084\n",
            "f1 Score: 0.901512444920805\n",
            "Precision Score: 0.8947285477897723\n"
          ],
          "name": "stdout"
        }
      ]
    },
    {
      "cell_type": "markdown",
      "metadata": {
        "id": "Q3g7QIUT27rI"
      },
      "source": [
        "### SVM Classifier Model Building"
      ]
    },
    {
      "cell_type": "markdown",
      "metadata": {
        "id": "px0q9iLJAkI8"
      },
      "source": [
        "> Using TFIDF vectorization"
      ]
    },
    {
      "cell_type": "code",
      "metadata": {
        "id": "vs3RhVBdfMpB",
        "colab": {
          "base_uri": "https://localhost:8080/"
        },
        "outputId": "37471a74-1939-4591-c7d7-989b4a375fc3"
      },
      "source": [
        "from sklearn.svm import LinearSVC\n",
        "for c in [0.001, 0.005, 0.01, 0.05, 0.1]:\n",
        "    \n",
        "    svm = LinearSVC(C=c)\n",
        "    svm.fit(X_train_tfidf, y_train_tfidf)\n",
        "    print (\"Accuracy for C=%s: %s\" \n",
        "           % (c, accuracy_score(y_val_tfidf, svm.predict(X_val_tfidf))))"
      ],
      "execution_count": 51,
      "outputs": [
        {
          "output_type": "stream",
          "text": [
            "Accuracy for C=0.001: 0.80016\n",
            "Accuracy for C=0.005: 0.83552\n",
            "Accuracy for C=0.01: 0.85248\n",
            "Accuracy for C=0.05: 0.87984\n",
            "Accuracy for C=0.1: 0.8832\n"
          ],
          "name": "stdout"
        }
      ]
    },
    {
      "cell_type": "code",
      "metadata": {
        "id": "QTyk6IPIfMsf",
        "colab": {
          "base_uri": "https://localhost:8080/"
        },
        "outputId": "769c55b1-30b7-49e1-d943-63c0c8c22ab8"
      },
      "source": [
        "final_tfidf = LinearSVC(C=0.1)\n",
        "final_tfidf.fit(tfidf_X, target)\n",
        "print(\"Final Accuracy: %s\" \n",
        "       % accuracy_score(target, final_tfidf.predict(tfidf_X_test)))\n",
        "print(\"Recall Score: %s\" \n",
        "      % recall_score(target, final_tfidf.predict(tfidf_X_test)))\n",
        "print(\"f1 Score: %s\"\n",
        "      % f1_score(target, final_tfidf.predict(tfidf_X_test)))\n",
        "print(\"Precision Score: %s\"\n",
        "      % precision_score(target, final_tfidf.predict(tfidf_X_test)))\n",
        "new_row=[accuracy_score(target, final_tfidf.predict(tfidf_X_test)),\n",
        "                              recall_score(target, final_tfidf.predict(tfidf_X_test)),\n",
        "                              f1_score(target, final_tfidf.predict(tfidf_X_test)),\n",
        "                              precision_score(target, final_tfidf.predict(tfidf_X_test))]\n",
        "results.loc[len(results)]=new_row"
      ],
      "execution_count": 52,
      "outputs": [
        {
          "output_type": "stream",
          "text": [
            "Final Accuracy: 0.88328\n",
            "Recall Score: 0.8852\n",
            "f1 Score: 0.8835036729479399\n",
            "Precision Score: 0.8818138348740835\n"
          ],
          "name": "stdout"
        }
      ]
    },
    {
      "cell_type": "markdown",
      "metadata": {
        "id": "0EJZLnXMAl4e"
      },
      "source": [
        "> Using Ngram model based vectorization"
      ]
    },
    {
      "cell_type": "code",
      "metadata": {
        "id": "B-beyV8WAnJS",
        "colab": {
          "base_uri": "https://localhost:8080/"
        },
        "outputId": "99fe332b-aa64-4068-ee90-b3b772f62ef6"
      },
      "source": [
        "for c in [0.001, 0.005, 0.01, 0.05, 0.1]:\n",
        "    \n",
        "    svm = LinearSVC(C=c)\n",
        "    svm.fit(X_train_ngram, y_train_ngram)\n",
        "    print (\"Accuracy for C=%s: %s\" \n",
        "           % (c, accuracy_score(y_val_ngram, svm.predict(X_val_ngram))))"
      ],
      "execution_count": 53,
      "outputs": [
        {
          "output_type": "stream",
          "text": [
            "Accuracy for C=0.001: 0.88544\n",
            "Accuracy for C=0.005: 0.89248\n",
            "Accuracy for C=0.01: 0.89232\n",
            "Accuracy for C=0.05: 0.89088\n",
            "Accuracy for C=0.1: 0.89088\n"
          ],
          "name": "stdout"
        }
      ]
    },
    {
      "cell_type": "code",
      "metadata": {
        "id": "G_rAePgq2_Rh",
        "colab": {
          "base_uri": "https://localhost:8080/"
        },
        "outputId": "d9f1aa7f-e343-46f1-a100-a3dac17888a9"
      },
      "source": [
        "final_ngram = LinearSVC(C=0.01)\n",
        "final_ngram.fit(Ngram_X, target)\n",
        "print (\"Final Accuracy: %s\" \n",
        "       % accuracy_score(target, final_ngram.predict(Ngram_X_test)))\n",
        "print(\"Recall Score: %s\" \n",
        "      % recall_score(target, final_ngram.predict(Ngram_X_test)))\n",
        "print(\"f1 Score: %s\"\n",
        "      % f1_score(target, final_ngram.predict(Ngram_X_test)))\n",
        "print(\"Precision Score: %s\"\n",
        "      % precision_score(target, final_ngram.predict(Ngram_X_test)))\n",
        "new_row=[accuracy_score(target, final_ngram.predict(Ngram_X_test)),\n",
        "                              recall_score(target, final_ngram.predict(Ngram_X_test)),\n",
        "                              f1_score(target, final_ngram.predict(Ngram_X_test)),\n",
        "                              precision_score(target, final_ngram.predict(Ngram_X_test))]\n",
        "results.loc[len(results)]=new_row"
      ],
      "execution_count": 54,
      "outputs": [
        {
          "output_type": "stream",
          "text": [
            "Final Accuracy: 0.90112\n",
            "Recall Score: 0.90864\n",
            "f1 Score: 0.9018580276322058\n",
            "Precision Score: 0.8951765447667087\n"
          ],
          "name": "stdout"
        }
      ]
    },
    {
      "cell_type": "markdown",
      "metadata": {
        "id": "VwBAXjOt2_xJ"
      },
      "source": [
        "### Navie Bayes Classifier Model Building"
      ]
    },
    {
      "cell_type": "markdown",
      "metadata": {
        "id": "jxu9l9BdArlB"
      },
      "source": [
        ">Using TFIDF vectorization"
      ]
    },
    {
      "cell_type": "code",
      "metadata": {
        "id": "obGkLvEI3EZb",
        "colab": {
          "base_uri": "https://localhost:8080/"
        },
        "outputId": "70b8bdca-d248-4b08-f75e-7bddbf3fc014"
      },
      "source": [
        "from sklearn.naive_bayes import MultinomialNB\n",
        "\n",
        "for c in [ 0.01, 0.05, 0.1, 0.5, 1]:\n",
        "    \n",
        "    clf = MultinomialNB(alpha=c)\n",
        "    clf.fit(X_train_tfidf, y_train_tfidf)\n",
        "    print (\"Accuracy for alpha=%s: %s\" \n",
        "           % (c, accuracy_score(y_val_tfidf, clf.predict(X_val_tfidf))))"
      ],
      "execution_count": 55,
      "outputs": [
        {
          "output_type": "stream",
          "text": [
            "Accuracy for alpha=0.01: 0.84176\n",
            "Accuracy for alpha=0.05: 0.84848\n",
            "Accuracy for alpha=0.1: 0.84928\n",
            "Accuracy for alpha=0.5: 0.85168\n",
            "Accuracy for alpha=1: 0.848\n"
          ],
          "name": "stdout"
        }
      ]
    },
    {
      "cell_type": "code",
      "metadata": {
        "id": "9hrPbRTt3EcQ",
        "colab": {
          "base_uri": "https://localhost:8080/"
        },
        "outputId": "a72a19fa-f078-4712-cfa8-5818a03792fd"
      },
      "source": [
        "final_tfidf = MultinomialNB(alpha=0.5)\n",
        "final_tfidf.fit(tfidf_X, target)\n",
        "print(\"Final Accuracy: %s\" \n",
        "       % accuracy_score(target, final_tfidf.predict(tfidf_X_test)))\n",
        "print(\"Recall Score: %s\" \n",
        "      % recall_score(target, final_tfidf.predict(tfidf_X_test)))\n",
        "print(\"f1 Score: %s\"\n",
        "      % f1_score(target, final_tfidf.predict(tfidf_X_test)))\n",
        "print(\"Precision Score: %s\"\n",
        "      % precision_score(target, final_tfidf.predict(tfidf_X_test)))\n",
        "\n",
        "new_row=[accuracy_score(target, final_tfidf.predict(tfidf_X_test)),\n",
        "                              recall_score(target, final_tfidf.predict(tfidf_X_test)),\n",
        "                              f1_score(target, final_tfidf.predict(tfidf_X_test)),\n",
        "                              precision_score(target, final_tfidf.predict(tfidf_X_test))]\n",
        "results.loc[len(results)]=new_row"
      ],
      "execution_count": 56,
      "outputs": [
        {
          "output_type": "stream",
          "text": [
            "Final Accuracy: 0.81676\n",
            "Recall Score: 0.75808\n",
            "f1 Score: 0.805337186079123\n",
            "Precision Score: 0.8588779117193873\n"
          ],
          "name": "stdout"
        }
      ]
    },
    {
      "cell_type": "markdown",
      "metadata": {
        "id": "W6ivXF7pAvdt"
      },
      "source": [
        ">Using Ngram model based vectorization"
      ]
    },
    {
      "cell_type": "code",
      "metadata": {
        "id": "wshNXu1lAwRn",
        "colab": {
          "base_uri": "https://localhost:8080/"
        },
        "outputId": "30cf1e7a-1f42-4373-e1af-c0573222d135"
      },
      "source": [
        "for c in [ 0.01, 0.05, 0.1, 0.5, 1]:\n",
        "    \n",
        "    clf = MultinomialNB(alpha=c)\n",
        "    clf.fit(X_train_ngram, y_train_ngram)\n",
        "    print(\"Accuracy for alpha=%s: %s\" \n",
        "           % (c, accuracy_score(y_val_ngram, clf.predict(X_val_ngram))))"
      ],
      "execution_count": 57,
      "outputs": [
        {
          "output_type": "stream",
          "text": [
            "Accuracy for alpha=0.01: 0.8808\n",
            "Accuracy for alpha=0.05: 0.8848\n",
            "Accuracy for alpha=0.1: 0.88336\n",
            "Accuracy for alpha=0.5: 0.88144\n",
            "Accuracy for alpha=1: 0.88016\n"
          ],
          "name": "stdout"
        }
      ]
    },
    {
      "cell_type": "code",
      "metadata": {
        "id": "iz2mpEGy3Eny",
        "colab": {
          "base_uri": "https://localhost:8080/"
        },
        "outputId": "4bd19029-c8e1-4981-d344-64b03e00ced7"
      },
      "source": [
        "final_ngram = MultinomialNB(alpha=0.05)\n",
        "final_ngram.fit(Ngram_X, target)\n",
        "print(\"Final Accuracy: %s\" \n",
        "       % accuracy_score(target, final_ngram.predict(Ngram_X_test)))\n",
        "print(\"Recall Score: %s\" \n",
        "      % recall_score(target, final_ngram.predict(Ngram_X_test)))\n",
        "print(\"f1 Score: %s\"\n",
        "      % f1_score(target, final_ngram.predict(Ngram_X_test)))\n",
        "print(\"Precision Score: %s\"\n",
        "      % precision_score(target, final_ngram.predict(Ngram_X_test)))\n",
        "new_row=[accuracy_score(target, final_ngram.predict(Ngram_X_test)),\n",
        "                              recall_score(target, final_ngram.predict(Ngram_X_test)),\n",
        "                              f1_score(target, final_ngram.predict(Ngram_X_test)),\n",
        "                              precision_score(target, final_ngram.predict(Ngram_X_test))]\n",
        "results.loc[len(results)]=new_row"
      ],
      "execution_count": 58,
      "outputs": [
        {
          "output_type": "stream",
          "text": [
            "Final Accuracy: 0.8702\n",
            "Recall Score: 0.8316\n",
            "f1 Score: 0.8649885583524027\n",
            "Precision Score: 0.9011703511053316\n"
          ],
          "name": "stdout"
        }
      ]
    },
    {
      "cell_type": "markdown",
      "metadata": {
        "id": "b3g7mmTcJ_JD"
      },
      "source": [
        "### Comparative Study of the various classifiers used along with various evaluation metrics"
      ]
    },
    {
      "cell_type": "code",
      "metadata": {
        "id": "29ytc8i0M-kP",
        "colab": {
          "base_uri": "https://localhost:8080/",
          "height": 229
        },
        "outputId": "3f398bd8-bd95-42d0-e02d-320f6c3d97ec"
      },
      "source": [
        "results.index=['Logistic Regression (Tfidf)','Logistic Regression (Ngram)','SVM (Tfidf)','SVM (Ngram)','Multinomial Naive Bayes (Tfidf)','Multinomial Naive Bayes (Ngram)'] \n",
        "results"
      ],
      "execution_count": 59,
      "outputs": [
        {
          "output_type": "execute_result",
          "data": {
            "text/html": [
              "<div>\n",
              "<style scoped>\n",
              "    .dataframe tbody tr th:only-of-type {\n",
              "        vertical-align: middle;\n",
              "    }\n",
              "\n",
              "    .dataframe tbody tr th {\n",
              "        vertical-align: top;\n",
              "    }\n",
              "\n",
              "    .dataframe thead th {\n",
              "        text-align: right;\n",
              "    }\n",
              "</style>\n",
              "<table border=\"1\" class=\"dataframe\">\n",
              "  <thead>\n",
              "    <tr style=\"text-align: right;\">\n",
              "      <th></th>\n",
              "      <th>Final Accuracy</th>\n",
              "      <th>Recall Score</th>\n",
              "      <th>f1 Score</th>\n",
              "      <th>Precision Score</th>\n",
              "    </tr>\n",
              "  </thead>\n",
              "  <tbody>\n",
              "    <tr>\n",
              "      <th>Logistic Regression (Tfidf)</th>\n",
              "      <td>0.88208</td>\n",
              "      <td>0.88152</td>\n",
              "      <td>0.882014</td>\n",
              "      <td>0.882508</td>\n",
              "    </tr>\n",
              "    <tr>\n",
              "      <th>Logistic Regression (Ngram)</th>\n",
              "      <td>0.90076</td>\n",
              "      <td>0.90840</td>\n",
              "      <td>0.901512</td>\n",
              "      <td>0.894729</td>\n",
              "    </tr>\n",
              "    <tr>\n",
              "      <th>SVM (Tfidf)</th>\n",
              "      <td>0.88328</td>\n",
              "      <td>0.88520</td>\n",
              "      <td>0.883504</td>\n",
              "      <td>0.881814</td>\n",
              "    </tr>\n",
              "    <tr>\n",
              "      <th>SVM (Ngram)</th>\n",
              "      <td>0.90112</td>\n",
              "      <td>0.90864</td>\n",
              "      <td>0.901858</td>\n",
              "      <td>0.895177</td>\n",
              "    </tr>\n",
              "    <tr>\n",
              "      <th>Multinomial Naive Bayes (Tfidf)</th>\n",
              "      <td>0.81676</td>\n",
              "      <td>0.75808</td>\n",
              "      <td>0.805337</td>\n",
              "      <td>0.858878</td>\n",
              "    </tr>\n",
              "    <tr>\n",
              "      <th>Multinomial Naive Bayes (Ngram)</th>\n",
              "      <td>0.87020</td>\n",
              "      <td>0.83160</td>\n",
              "      <td>0.864989</td>\n",
              "      <td>0.901170</td>\n",
              "    </tr>\n",
              "  </tbody>\n",
              "</table>\n",
              "</div>"
            ],
            "text/plain": [
              "                                 Final Accuracy  ...  Precision Score\n",
              "Logistic Regression (Tfidf)             0.88208  ...         0.882508\n",
              "Logistic Regression (Ngram)             0.90076  ...         0.894729\n",
              "SVM (Tfidf)                             0.88328  ...         0.881814\n",
              "SVM (Ngram)                             0.90112  ...         0.895177\n",
              "Multinomial Naive Bayes (Tfidf)         0.81676  ...         0.858878\n",
              "Multinomial Naive Bayes (Ngram)         0.87020  ...         0.901170\n",
              "\n",
              "[6 rows x 4 columns]"
            ]
          },
          "metadata": {
            "tags": []
          },
          "execution_count": 59
        }
      ]
    },
    {
      "cell_type": "code",
      "metadata": {
        "colab": {
          "base_uri": "https://localhost:8080/",
          "height": 156
        },
        "id": "e_w9R51xKvSR",
        "outputId": "9abe8428-f1d0-4235-c496-683ffab987c3"
      },
      "source": [
        "results.style\\\n",
        ".bar()"
      ],
      "execution_count": 60,
      "outputs": [
        {
          "output_type": "execute_result",
          "data": {
            "text/html": [
              "<style  type=\"text/css\" >\n",
              "#T_e32d83d4_95dc_11eb_ba04_0242ac1c0002row0_col0{\n",
              "            width:  10em;\n",
              "             height:  80%;\n",
              "            background:  linear-gradient(90deg,#d65f5f 77.4%, transparent 77.4%);\n",
              "        }#T_e32d83d4_95dc_11eb_ba04_0242ac1c0002row0_col1{\n",
              "            width:  10em;\n",
              "             height:  80%;\n",
              "            background:  linear-gradient(90deg,#d65f5f 82.0%, transparent 82.0%);\n",
              "        }#T_e32d83d4_95dc_11eb_ba04_0242ac1c0002row0_col2{\n",
              "            width:  10em;\n",
              "             height:  80%;\n",
              "            background:  linear-gradient(90deg,#d65f5f 79.4%, transparent 79.4%);\n",
              "        }#T_e32d83d4_95dc_11eb_ba04_0242ac1c0002row0_col3{\n",
              "            width:  10em;\n",
              "             height:  80%;\n",
              "            background:  linear-gradient(90deg,#d65f5f 55.9%, transparent 55.9%);\n",
              "        }#T_e32d83d4_95dc_11eb_ba04_0242ac1c0002row1_col0,#T_e32d83d4_95dc_11eb_ba04_0242ac1c0002row1_col2{\n",
              "            width:  10em;\n",
              "             height:  80%;\n",
              "            background:  linear-gradient(90deg,#d65f5f 99.6%, transparent 99.6%);\n",
              "        }#T_e32d83d4_95dc_11eb_ba04_0242ac1c0002row1_col1{\n",
              "            width:  10em;\n",
              "             height:  80%;\n",
              "            background:  linear-gradient(90deg,#d65f5f 99.8%, transparent 99.8%);\n",
              "        }#T_e32d83d4_95dc_11eb_ba04_0242ac1c0002row1_col3{\n",
              "            width:  10em;\n",
              "             height:  80%;\n",
              "            background:  linear-gradient(90deg,#d65f5f 84.8%, transparent 84.8%);\n",
              "        }#T_e32d83d4_95dc_11eb_ba04_0242ac1c0002row2_col0{\n",
              "            width:  10em;\n",
              "             height:  80%;\n",
              "            background:  linear-gradient(90deg,#d65f5f 78.9%, transparent 78.9%);\n",
              "        }#T_e32d83d4_95dc_11eb_ba04_0242ac1c0002row2_col1{\n",
              "            width:  10em;\n",
              "             height:  80%;\n",
              "            background:  linear-gradient(90deg,#d65f5f 84.4%, transparent 84.4%);\n",
              "        }#T_e32d83d4_95dc_11eb_ba04_0242ac1c0002row2_col2{\n",
              "            width:  10em;\n",
              "             height:  80%;\n",
              "            background:  linear-gradient(90deg,#d65f5f 81.0%, transparent 81.0%);\n",
              "        }#T_e32d83d4_95dc_11eb_ba04_0242ac1c0002row2_col3{\n",
              "            width:  10em;\n",
              "             height:  80%;\n",
              "            background:  linear-gradient(90deg,#d65f5f 54.2%, transparent 54.2%);\n",
              "        }#T_e32d83d4_95dc_11eb_ba04_0242ac1c0002row3_col0,#T_e32d83d4_95dc_11eb_ba04_0242ac1c0002row3_col1,#T_e32d83d4_95dc_11eb_ba04_0242ac1c0002row3_col2,#T_e32d83d4_95dc_11eb_ba04_0242ac1c0002row5_col3{\n",
              "            width:  10em;\n",
              "             height:  80%;\n",
              "            background:  linear-gradient(90deg,#d65f5f 100.0%, transparent 100.0%);\n",
              "        }#T_e32d83d4_95dc_11eb_ba04_0242ac1c0002row3_col3{\n",
              "            width:  10em;\n",
              "             height:  80%;\n",
              "            background:  linear-gradient(90deg,#d65f5f 85.8%, transparent 85.8%);\n",
              "        }#T_e32d83d4_95dc_11eb_ba04_0242ac1c0002row4_col0,#T_e32d83d4_95dc_11eb_ba04_0242ac1c0002row4_col1,#T_e32d83d4_95dc_11eb_ba04_0242ac1c0002row4_col2,#T_e32d83d4_95dc_11eb_ba04_0242ac1c0002row4_col3{\n",
              "            width:  10em;\n",
              "             height:  80%;\n",
              "        }#T_e32d83d4_95dc_11eb_ba04_0242ac1c0002row5_col0{\n",
              "            width:  10em;\n",
              "             height:  80%;\n",
              "            background:  linear-gradient(90deg,#d65f5f 63.3%, transparent 63.3%);\n",
              "        }#T_e32d83d4_95dc_11eb_ba04_0242ac1c0002row5_col1{\n",
              "            width:  10em;\n",
              "             height:  80%;\n",
              "            background:  linear-gradient(90deg,#d65f5f 48.8%, transparent 48.8%);\n",
              "        }#T_e32d83d4_95dc_11eb_ba04_0242ac1c0002row5_col2{\n",
              "            width:  10em;\n",
              "             height:  80%;\n",
              "            background:  linear-gradient(90deg,#d65f5f 61.8%, transparent 61.8%);\n",
              "        }</style><table id=\"T_e32d83d4_95dc_11eb_ba04_0242ac1c0002\" ><thead>    <tr>        <th class=\"blank level0\" ></th>        <th class=\"col_heading level0 col0\" >Final Accuracy</th>        <th class=\"col_heading level0 col1\" >Recall Score</th>        <th class=\"col_heading level0 col2\" >f1 Score</th>        <th class=\"col_heading level0 col3\" >Precision Score</th>    </tr></thead><tbody>\n",
              "                <tr>\n",
              "                        <th id=\"T_e32d83d4_95dc_11eb_ba04_0242ac1c0002level0_row0\" class=\"row_heading level0 row0\" >Logistic Regression (Tfidf)</th>\n",
              "                        <td id=\"T_e32d83d4_95dc_11eb_ba04_0242ac1c0002row0_col0\" class=\"data row0 col0\" >0.882080</td>\n",
              "                        <td id=\"T_e32d83d4_95dc_11eb_ba04_0242ac1c0002row0_col1\" class=\"data row0 col1\" >0.881520</td>\n",
              "                        <td id=\"T_e32d83d4_95dc_11eb_ba04_0242ac1c0002row0_col2\" class=\"data row0 col2\" >0.882014</td>\n",
              "                        <td id=\"T_e32d83d4_95dc_11eb_ba04_0242ac1c0002row0_col3\" class=\"data row0 col3\" >0.882508</td>\n",
              "            </tr>\n",
              "            <tr>\n",
              "                        <th id=\"T_e32d83d4_95dc_11eb_ba04_0242ac1c0002level0_row1\" class=\"row_heading level0 row1\" >Logistic Regression (Ngram)</th>\n",
              "                        <td id=\"T_e32d83d4_95dc_11eb_ba04_0242ac1c0002row1_col0\" class=\"data row1 col0\" >0.900760</td>\n",
              "                        <td id=\"T_e32d83d4_95dc_11eb_ba04_0242ac1c0002row1_col1\" class=\"data row1 col1\" >0.908400</td>\n",
              "                        <td id=\"T_e32d83d4_95dc_11eb_ba04_0242ac1c0002row1_col2\" class=\"data row1 col2\" >0.901512</td>\n",
              "                        <td id=\"T_e32d83d4_95dc_11eb_ba04_0242ac1c0002row1_col3\" class=\"data row1 col3\" >0.894729</td>\n",
              "            </tr>\n",
              "            <tr>\n",
              "                        <th id=\"T_e32d83d4_95dc_11eb_ba04_0242ac1c0002level0_row2\" class=\"row_heading level0 row2\" >SVM (Tfidf)</th>\n",
              "                        <td id=\"T_e32d83d4_95dc_11eb_ba04_0242ac1c0002row2_col0\" class=\"data row2 col0\" >0.883280</td>\n",
              "                        <td id=\"T_e32d83d4_95dc_11eb_ba04_0242ac1c0002row2_col1\" class=\"data row2 col1\" >0.885200</td>\n",
              "                        <td id=\"T_e32d83d4_95dc_11eb_ba04_0242ac1c0002row2_col2\" class=\"data row2 col2\" >0.883504</td>\n",
              "                        <td id=\"T_e32d83d4_95dc_11eb_ba04_0242ac1c0002row2_col3\" class=\"data row2 col3\" >0.881814</td>\n",
              "            </tr>\n",
              "            <tr>\n",
              "                        <th id=\"T_e32d83d4_95dc_11eb_ba04_0242ac1c0002level0_row3\" class=\"row_heading level0 row3\" >SVM (Ngram)</th>\n",
              "                        <td id=\"T_e32d83d4_95dc_11eb_ba04_0242ac1c0002row3_col0\" class=\"data row3 col0\" >0.901120</td>\n",
              "                        <td id=\"T_e32d83d4_95dc_11eb_ba04_0242ac1c0002row3_col1\" class=\"data row3 col1\" >0.908640</td>\n",
              "                        <td id=\"T_e32d83d4_95dc_11eb_ba04_0242ac1c0002row3_col2\" class=\"data row3 col2\" >0.901858</td>\n",
              "                        <td id=\"T_e32d83d4_95dc_11eb_ba04_0242ac1c0002row3_col3\" class=\"data row3 col3\" >0.895177</td>\n",
              "            </tr>\n",
              "            <tr>\n",
              "                        <th id=\"T_e32d83d4_95dc_11eb_ba04_0242ac1c0002level0_row4\" class=\"row_heading level0 row4\" >Multinomial Naive Bayes (Tfidf)</th>\n",
              "                        <td id=\"T_e32d83d4_95dc_11eb_ba04_0242ac1c0002row4_col0\" class=\"data row4 col0\" >0.816760</td>\n",
              "                        <td id=\"T_e32d83d4_95dc_11eb_ba04_0242ac1c0002row4_col1\" class=\"data row4 col1\" >0.758080</td>\n",
              "                        <td id=\"T_e32d83d4_95dc_11eb_ba04_0242ac1c0002row4_col2\" class=\"data row4 col2\" >0.805337</td>\n",
              "                        <td id=\"T_e32d83d4_95dc_11eb_ba04_0242ac1c0002row4_col3\" class=\"data row4 col3\" >0.858878</td>\n",
              "            </tr>\n",
              "            <tr>\n",
              "                        <th id=\"T_e32d83d4_95dc_11eb_ba04_0242ac1c0002level0_row5\" class=\"row_heading level0 row5\" >Multinomial Naive Bayes (Ngram)</th>\n",
              "                        <td id=\"T_e32d83d4_95dc_11eb_ba04_0242ac1c0002row5_col0\" class=\"data row5 col0\" >0.870200</td>\n",
              "                        <td id=\"T_e32d83d4_95dc_11eb_ba04_0242ac1c0002row5_col1\" class=\"data row5 col1\" >0.831600</td>\n",
              "                        <td id=\"T_e32d83d4_95dc_11eb_ba04_0242ac1c0002row5_col2\" class=\"data row5 col2\" >0.864989</td>\n",
              "                        <td id=\"T_e32d83d4_95dc_11eb_ba04_0242ac1c0002row5_col3\" class=\"data row5 col3\" >0.901170</td>\n",
              "            </tr>\n",
              "    </tbody></table>"
            ],
            "text/plain": [
              "<pandas.io.formats.style.Styler at 0x7fcbcd50ad10>"
            ]
          },
          "metadata": {
            "tags": []
          },
          "execution_count": 60
        }
      ]
    },
    {
      "cell_type": "code",
      "metadata": {
        "colab": {
          "base_uri": "https://localhost:8080/",
          "height": 322
        },
        "id": "Qe-IF003TCHb",
        "outputId": "f7194e53-8eaf-4b54-c1ea-6b0a47772c64"
      },
      "source": [
        "pd.set_option('display.max_colwidth', 40)\n",
        "\n",
        "results.style \\\n",
        "  .format('{:.4f}') \\\n",
        "  .background_gradient(cmap='Blues') \\\n",
        "  .set_caption('Evaluation Scores with Bar Chart') \\\n",
        "  .set_properties(padding=\"12px\", border='2px solid white', width='160px')"
      ],
      "execution_count": 61,
      "outputs": [
        {
          "output_type": "execute_result",
          "data": {
            "text/html": [
              "<style  type=\"text/css\" >\n",
              "#T_e4ace0ba_95dc_11eb_ba04_0242ac1c0002row0_col0{\n",
              "            background-color:  #1c6ab0;\n",
              "            color:  #f1f1f1;\n",
              "            padding:  12px;\n",
              "            border:  2px solid white;\n",
              "            width:  160px;\n",
              "        }#T_e4ace0ba_95dc_11eb_ba04_0242ac1c0002row0_col1{\n",
              "            background-color:  #135fa7;\n",
              "            color:  #f1f1f1;\n",
              "            padding:  12px;\n",
              "            border:  2px solid white;\n",
              "            width:  160px;\n",
              "        }#T_e4ace0ba_95dc_11eb_ba04_0242ac1c0002row0_col2{\n",
              "            background-color:  #1865ac;\n",
              "            color:  #f1f1f1;\n",
              "            padding:  12px;\n",
              "            border:  2px solid white;\n",
              "            width:  160px;\n",
              "        }#T_e4ace0ba_95dc_11eb_ba04_0242ac1c0002row0_col3{\n",
              "            background-color:  #57a0ce;\n",
              "            color:  #000000;\n",
              "            padding:  12px;\n",
              "            border:  2px solid white;\n",
              "            width:  160px;\n",
              "        }#T_e4ace0ba_95dc_11eb_ba04_0242ac1c0002row1_col0{\n",
              "            background-color:  #08316d;\n",
              "            color:  #f1f1f1;\n",
              "            padding:  12px;\n",
              "            border:  2px solid white;\n",
              "            width:  160px;\n",
              "        }#T_e4ace0ba_95dc_11eb_ba04_0242ac1c0002row1_col1,#T_e4ace0ba_95dc_11eb_ba04_0242ac1c0002row1_col2,#T_e4ace0ba_95dc_11eb_ba04_0242ac1c0002row3_col0,#T_e4ace0ba_95dc_11eb_ba04_0242ac1c0002row3_col1,#T_e4ace0ba_95dc_11eb_ba04_0242ac1c0002row3_col2,#T_e4ace0ba_95dc_11eb_ba04_0242ac1c0002row5_col3{\n",
              "            background-color:  #08306b;\n",
              "            color:  #f1f1f1;\n",
              "            padding:  12px;\n",
              "            border:  2px solid white;\n",
              "            width:  160px;\n",
              "        }#T_e4ace0ba_95dc_11eb_ba04_0242ac1c0002row1_col3{\n",
              "            background-color:  #0d57a1;\n",
              "            color:  #f1f1f1;\n",
              "            padding:  12px;\n",
              "            border:  2px solid white;\n",
              "            width:  160px;\n",
              "        }#T_e4ace0ba_95dc_11eb_ba04_0242ac1c0002row2_col0{\n",
              "            background-color:  #1967ad;\n",
              "            color:  #f1f1f1;\n",
              "            padding:  12px;\n",
              "            border:  2px solid white;\n",
              "            width:  160px;\n",
              "        }#T_e4ace0ba_95dc_11eb_ba04_0242ac1c0002row2_col1{\n",
              "            background-color:  #0e58a2;\n",
              "            color:  #f1f1f1;\n",
              "            padding:  12px;\n",
              "            border:  2px solid white;\n",
              "            width:  160px;\n",
              "        }#T_e4ace0ba_95dc_11eb_ba04_0242ac1c0002row2_col2{\n",
              "            background-color:  #1561a9;\n",
              "            color:  #f1f1f1;\n",
              "            padding:  12px;\n",
              "            border:  2px solid white;\n",
              "            width:  160px;\n",
              "        }#T_e4ace0ba_95dc_11eb_ba04_0242ac1c0002row2_col3{\n",
              "            background-color:  #5da5d1;\n",
              "            color:  #000000;\n",
              "            padding:  12px;\n",
              "            border:  2px solid white;\n",
              "            width:  160px;\n",
              "        }#T_e4ace0ba_95dc_11eb_ba04_0242ac1c0002row3_col3{\n",
              "            background-color:  #0b559f;\n",
              "            color:  #f1f1f1;\n",
              "            padding:  12px;\n",
              "            border:  2px solid white;\n",
              "            width:  160px;\n",
              "        }#T_e4ace0ba_95dc_11eb_ba04_0242ac1c0002row4_col0,#T_e4ace0ba_95dc_11eb_ba04_0242ac1c0002row4_col1,#T_e4ace0ba_95dc_11eb_ba04_0242ac1c0002row4_col2,#T_e4ace0ba_95dc_11eb_ba04_0242ac1c0002row4_col3{\n",
              "            background-color:  #f7fbff;\n",
              "            color:  #000000;\n",
              "            padding:  12px;\n",
              "            border:  2px solid white;\n",
              "            width:  160px;\n",
              "        }#T_e4ace0ba_95dc_11eb_ba04_0242ac1c0002row5_col0{\n",
              "            background-color:  #3f8fc5;\n",
              "            color:  #000000;\n",
              "            padding:  12px;\n",
              "            border:  2px solid white;\n",
              "            width:  160px;\n",
              "        }#T_e4ace0ba_95dc_11eb_ba04_0242ac1c0002row5_col1{\n",
              "            background-color:  #6fb0d7;\n",
              "            color:  #000000;\n",
              "            padding:  12px;\n",
              "            border:  2px solid white;\n",
              "            width:  160px;\n",
              "        }#T_e4ace0ba_95dc_11eb_ba04_0242ac1c0002row5_col2{\n",
              "            background-color:  #4493c7;\n",
              "            color:  #000000;\n",
              "            padding:  12px;\n",
              "            border:  2px solid white;\n",
              "            width:  160px;\n",
              "        }</style><table id=\"T_e4ace0ba_95dc_11eb_ba04_0242ac1c0002\" ><caption>Evaluation Scores with Bar Chart</caption><thead>    <tr>        <th class=\"blank level0\" ></th>        <th class=\"col_heading level0 col0\" >Final Accuracy</th>        <th class=\"col_heading level0 col1\" >Recall Score</th>        <th class=\"col_heading level0 col2\" >f1 Score</th>        <th class=\"col_heading level0 col3\" >Precision Score</th>    </tr></thead><tbody>\n",
              "                <tr>\n",
              "                        <th id=\"T_e4ace0ba_95dc_11eb_ba04_0242ac1c0002level0_row0\" class=\"row_heading level0 row0\" >Logistic Regression (Tfidf)</th>\n",
              "                        <td id=\"T_e4ace0ba_95dc_11eb_ba04_0242ac1c0002row0_col0\" class=\"data row0 col0\" >0.8821</td>\n",
              "                        <td id=\"T_e4ace0ba_95dc_11eb_ba04_0242ac1c0002row0_col1\" class=\"data row0 col1\" >0.8815</td>\n",
              "                        <td id=\"T_e4ace0ba_95dc_11eb_ba04_0242ac1c0002row0_col2\" class=\"data row0 col2\" >0.8820</td>\n",
              "                        <td id=\"T_e4ace0ba_95dc_11eb_ba04_0242ac1c0002row0_col3\" class=\"data row0 col3\" >0.8825</td>\n",
              "            </tr>\n",
              "            <tr>\n",
              "                        <th id=\"T_e4ace0ba_95dc_11eb_ba04_0242ac1c0002level0_row1\" class=\"row_heading level0 row1\" >Logistic Regression (Ngram)</th>\n",
              "                        <td id=\"T_e4ace0ba_95dc_11eb_ba04_0242ac1c0002row1_col0\" class=\"data row1 col0\" >0.9008</td>\n",
              "                        <td id=\"T_e4ace0ba_95dc_11eb_ba04_0242ac1c0002row1_col1\" class=\"data row1 col1\" >0.9084</td>\n",
              "                        <td id=\"T_e4ace0ba_95dc_11eb_ba04_0242ac1c0002row1_col2\" class=\"data row1 col2\" >0.9015</td>\n",
              "                        <td id=\"T_e4ace0ba_95dc_11eb_ba04_0242ac1c0002row1_col3\" class=\"data row1 col3\" >0.8947</td>\n",
              "            </tr>\n",
              "            <tr>\n",
              "                        <th id=\"T_e4ace0ba_95dc_11eb_ba04_0242ac1c0002level0_row2\" class=\"row_heading level0 row2\" >SVM (Tfidf)</th>\n",
              "                        <td id=\"T_e4ace0ba_95dc_11eb_ba04_0242ac1c0002row2_col0\" class=\"data row2 col0\" >0.8833</td>\n",
              "                        <td id=\"T_e4ace0ba_95dc_11eb_ba04_0242ac1c0002row2_col1\" class=\"data row2 col1\" >0.8852</td>\n",
              "                        <td id=\"T_e4ace0ba_95dc_11eb_ba04_0242ac1c0002row2_col2\" class=\"data row2 col2\" >0.8835</td>\n",
              "                        <td id=\"T_e4ace0ba_95dc_11eb_ba04_0242ac1c0002row2_col3\" class=\"data row2 col3\" >0.8818</td>\n",
              "            </tr>\n",
              "            <tr>\n",
              "                        <th id=\"T_e4ace0ba_95dc_11eb_ba04_0242ac1c0002level0_row3\" class=\"row_heading level0 row3\" >SVM (Ngram)</th>\n",
              "                        <td id=\"T_e4ace0ba_95dc_11eb_ba04_0242ac1c0002row3_col0\" class=\"data row3 col0\" >0.9011</td>\n",
              "                        <td id=\"T_e4ace0ba_95dc_11eb_ba04_0242ac1c0002row3_col1\" class=\"data row3 col1\" >0.9086</td>\n",
              "                        <td id=\"T_e4ace0ba_95dc_11eb_ba04_0242ac1c0002row3_col2\" class=\"data row3 col2\" >0.9019</td>\n",
              "                        <td id=\"T_e4ace0ba_95dc_11eb_ba04_0242ac1c0002row3_col3\" class=\"data row3 col3\" >0.8952</td>\n",
              "            </tr>\n",
              "            <tr>\n",
              "                        <th id=\"T_e4ace0ba_95dc_11eb_ba04_0242ac1c0002level0_row4\" class=\"row_heading level0 row4\" >Multinomial Naive Bayes (Tfidf)</th>\n",
              "                        <td id=\"T_e4ace0ba_95dc_11eb_ba04_0242ac1c0002row4_col0\" class=\"data row4 col0\" >0.8168</td>\n",
              "                        <td id=\"T_e4ace0ba_95dc_11eb_ba04_0242ac1c0002row4_col1\" class=\"data row4 col1\" >0.7581</td>\n",
              "                        <td id=\"T_e4ace0ba_95dc_11eb_ba04_0242ac1c0002row4_col2\" class=\"data row4 col2\" >0.8053</td>\n",
              "                        <td id=\"T_e4ace0ba_95dc_11eb_ba04_0242ac1c0002row4_col3\" class=\"data row4 col3\" >0.8589</td>\n",
              "            </tr>\n",
              "            <tr>\n",
              "                        <th id=\"T_e4ace0ba_95dc_11eb_ba04_0242ac1c0002level0_row5\" class=\"row_heading level0 row5\" >Multinomial Naive Bayes (Ngram)</th>\n",
              "                        <td id=\"T_e4ace0ba_95dc_11eb_ba04_0242ac1c0002row5_col0\" class=\"data row5 col0\" >0.8702</td>\n",
              "                        <td id=\"T_e4ace0ba_95dc_11eb_ba04_0242ac1c0002row5_col1\" class=\"data row5 col1\" >0.8316</td>\n",
              "                        <td id=\"T_e4ace0ba_95dc_11eb_ba04_0242ac1c0002row5_col2\" class=\"data row5 col2\" >0.8650</td>\n",
              "                        <td id=\"T_e4ace0ba_95dc_11eb_ba04_0242ac1c0002row5_col3\" class=\"data row5 col3\" >0.9012</td>\n",
              "            </tr>\n",
              "    </tbody></table>"
            ],
            "text/plain": [
              "<pandas.io.formats.style.Styler at 0x7fcbbf8f4350>"
            ]
          },
          "metadata": {
            "tags": []
          },
          "execution_count": 61
        }
      ]
    },
    {
      "cell_type": "code",
      "metadata": {
        "colab": {
          "base_uri": "https://localhost:8080/",
          "height": 542
        },
        "id": "O6MWDSpN8CnJ",
        "outputId": "2d51f524-68c5-4011-ff0e-37256ade5f6c"
      },
      "source": [
        "vector_comp=results.copy()\n",
        "vector_comp.index=['Logistic Regression','Logistic Regression','SVM ','SVM ','Multinomial Naive Bayes','Multinomial Naive Bayes'] \n",
        "\n",
        "fig = go.Figure()\n",
        "fig.add_trace(go.Bar( x=vector_comp.index[::2], y=vector_comp['Final Accuracy'][::2],\n",
        "                     marker_color='rgb(55, 83, 109)', name='TFIDF'\n",
        "                ))\n",
        "fig.add_trace(go.Bar( x=vector_comp.index[1::2], y=vector_comp['Final Accuracy'][1::2],\n",
        "                marker_color='rgb(26, 118, 255)', name='N-gram Model'\n",
        "                ))\n",
        "fig.update_layout(\n",
        "    title='Comparison of Accuracy of with respect\\nto text vectorization applied',\n",
        "    xaxis_tickfont_size=18,\n",
        "    yaxis=dict(\n",
        "        title='Accuracy Score',\n",
        "        titlefont_size=18,\n",
        "        tickfont_size=14,\n",
        "    ),\n",
        "    legend=dict(\n",
        "        x=1.0,\n",
        "        y=1.0,\n",
        "        bgcolor='rgba(255, 255, 255, 0)',\n",
        "        bordercolor='rgba(255, 255, 255, 0)',\n",
        "    ),\n",
        "    legend_font_size=18)\n",
        "fig.update_xaxes(showline=True, linewidth=1, linecolor='black')\n",
        "fig.update_yaxes(showline=True, linewidth=1, linecolor='black')\n",
        "\n",
        "fig.show()"
      ],
      "execution_count": 101,
      "outputs": [
        {
          "output_type": "display_data",
          "data": {
            "text/html": [
              "<html>\n",
              "<head><meta charset=\"utf-8\" /></head>\n",
              "<body>\n",
              "    <div>\n",
              "            <script src=\"https://cdnjs.cloudflare.com/ajax/libs/mathjax/2.7.5/MathJax.js?config=TeX-AMS-MML_SVG\"></script><script type=\"text/javascript\">if (window.MathJax) {MathJax.Hub.Config({SVG: {font: \"STIX-Web\"}});}</script>\n",
              "                <script type=\"text/javascript\">window.PlotlyConfig = {MathJaxConfig: 'local'};</script>\n",
              "        <script src=\"https://cdn.plot.ly/plotly-latest.min.js\"></script>    \n",
              "            <div id=\"940e70db-92ea-4d4f-ba23-ec538eda5ca3\" class=\"plotly-graph-div\" style=\"height:525px; width:100%;\"></div>\n",
              "            <script type=\"text/javascript\">\n",
              "                \n",
              "                    window.PLOTLYENV=window.PLOTLYENV || {};\n",
              "                    \n",
              "                if (document.getElementById(\"940e70db-92ea-4d4f-ba23-ec538eda5ca3\")) {\n",
              "                    Plotly.newPlot(\n",
              "                        '940e70db-92ea-4d4f-ba23-ec538eda5ca3',\n",
              "                        [{\"marker\": {\"color\": \"rgb(55, 83, 109)\"}, \"name\": \"TFIDF\", \"type\": \"bar\", \"x\": [\"Logistic Regression\", \"SVM \", \"Multinomial Naive Bayes\"], \"y\": [0.88208, 0.88328, 0.81676]}, {\"marker\": {\"color\": \"rgb(26, 118, 255)\"}, \"name\": \"N-gram Model\", \"type\": \"bar\", \"x\": [\"Logistic Regression\", \"SVM \", \"Multinomial Naive Bayes\"], \"y\": [0.90076, 0.90112, 0.8702]}],\n",
              "                        {\"legend\": {\"bgcolor\": \"rgba(255, 255, 255, 0)\", \"bordercolor\": \"rgba(255, 255, 255, 0)\", \"font\": {\"size\": 18}, \"x\": 1.0, \"y\": 1.0}, \"template\": {\"data\": {\"bar\": [{\"error_x\": {\"color\": \"#2a3f5f\"}, \"error_y\": {\"color\": \"#2a3f5f\"}, \"marker\": {\"line\": {\"color\": \"#E5ECF6\", \"width\": 0.5}}, \"type\": \"bar\"}], \"barpolar\": [{\"marker\": {\"line\": {\"color\": \"#E5ECF6\", \"width\": 0.5}}, \"type\": \"barpolar\"}], \"carpet\": [{\"aaxis\": {\"endlinecolor\": \"#2a3f5f\", \"gridcolor\": \"white\", \"linecolor\": \"white\", \"minorgridcolor\": \"white\", \"startlinecolor\": \"#2a3f5f\"}, \"baxis\": {\"endlinecolor\": \"#2a3f5f\", \"gridcolor\": \"white\", \"linecolor\": \"white\", \"minorgridcolor\": \"white\", \"startlinecolor\": \"#2a3f5f\"}, \"type\": \"carpet\"}], \"choropleth\": [{\"colorbar\": {\"outlinewidth\": 0, \"ticks\": \"\"}, \"type\": \"choropleth\"}], \"contour\": [{\"colorbar\": {\"outlinewidth\": 0, \"ticks\": \"\"}, \"colorscale\": [[0.0, \"#0d0887\"], [0.1111111111111111, \"#46039f\"], [0.2222222222222222, \"#7201a8\"], [0.3333333333333333, \"#9c179e\"], [0.4444444444444444, \"#bd3786\"], [0.5555555555555556, \"#d8576b\"], [0.6666666666666666, \"#ed7953\"], [0.7777777777777778, \"#fb9f3a\"], [0.8888888888888888, \"#fdca26\"], [1.0, \"#f0f921\"]], \"type\": \"contour\"}], \"contourcarpet\": [{\"colorbar\": {\"outlinewidth\": 0, \"ticks\": \"\"}, \"type\": \"contourcarpet\"}], \"heatmap\": [{\"colorbar\": {\"outlinewidth\": 0, \"ticks\": \"\"}, \"colorscale\": [[0.0, \"#0d0887\"], [0.1111111111111111, \"#46039f\"], [0.2222222222222222, \"#7201a8\"], [0.3333333333333333, \"#9c179e\"], [0.4444444444444444, \"#bd3786\"], [0.5555555555555556, \"#d8576b\"], [0.6666666666666666, \"#ed7953\"], [0.7777777777777778, \"#fb9f3a\"], [0.8888888888888888, \"#fdca26\"], [1.0, \"#f0f921\"]], \"type\": \"heatmap\"}], \"heatmapgl\": [{\"colorbar\": {\"outlinewidth\": 0, \"ticks\": \"\"}, \"colorscale\": [[0.0, \"#0d0887\"], [0.1111111111111111, \"#46039f\"], [0.2222222222222222, \"#7201a8\"], [0.3333333333333333, \"#9c179e\"], [0.4444444444444444, \"#bd3786\"], [0.5555555555555556, \"#d8576b\"], [0.6666666666666666, \"#ed7953\"], [0.7777777777777778, \"#fb9f3a\"], [0.8888888888888888, \"#fdca26\"], [1.0, \"#f0f921\"]], \"type\": \"heatmapgl\"}], \"histogram\": [{\"marker\": {\"colorbar\": {\"outlinewidth\": 0, \"ticks\": \"\"}}, \"type\": \"histogram\"}], \"histogram2d\": [{\"colorbar\": {\"outlinewidth\": 0, \"ticks\": \"\"}, \"colorscale\": [[0.0, \"#0d0887\"], [0.1111111111111111, \"#46039f\"], [0.2222222222222222, \"#7201a8\"], [0.3333333333333333, \"#9c179e\"], [0.4444444444444444, \"#bd3786\"], [0.5555555555555556, \"#d8576b\"], [0.6666666666666666, \"#ed7953\"], [0.7777777777777778, \"#fb9f3a\"], [0.8888888888888888, \"#fdca26\"], [1.0, \"#f0f921\"]], \"type\": \"histogram2d\"}], \"histogram2dcontour\": [{\"colorbar\": {\"outlinewidth\": 0, \"ticks\": \"\"}, \"colorscale\": [[0.0, \"#0d0887\"], [0.1111111111111111, \"#46039f\"], [0.2222222222222222, \"#7201a8\"], [0.3333333333333333, \"#9c179e\"], [0.4444444444444444, \"#bd3786\"], [0.5555555555555556, \"#d8576b\"], [0.6666666666666666, \"#ed7953\"], [0.7777777777777778, \"#fb9f3a\"], [0.8888888888888888, \"#fdca26\"], [1.0, \"#f0f921\"]], \"type\": \"histogram2dcontour\"}], \"mesh3d\": [{\"colorbar\": {\"outlinewidth\": 0, \"ticks\": \"\"}, \"type\": \"mesh3d\"}], \"parcoords\": [{\"line\": {\"colorbar\": {\"outlinewidth\": 0, \"ticks\": \"\"}}, \"type\": \"parcoords\"}], \"pie\": [{\"automargin\": true, \"type\": \"pie\"}], \"scatter\": [{\"marker\": {\"colorbar\": {\"outlinewidth\": 0, \"ticks\": \"\"}}, \"type\": \"scatter\"}], \"scatter3d\": [{\"line\": {\"colorbar\": {\"outlinewidth\": 0, \"ticks\": \"\"}}, \"marker\": {\"colorbar\": {\"outlinewidth\": 0, \"ticks\": \"\"}}, \"type\": \"scatter3d\"}], \"scattercarpet\": [{\"marker\": {\"colorbar\": {\"outlinewidth\": 0, \"ticks\": \"\"}}, \"type\": \"scattercarpet\"}], \"scattergeo\": [{\"marker\": {\"colorbar\": {\"outlinewidth\": 0, \"ticks\": \"\"}}, \"type\": \"scattergeo\"}], \"scattergl\": [{\"marker\": {\"colorbar\": {\"outlinewidth\": 0, \"ticks\": \"\"}}, \"type\": \"scattergl\"}], \"scattermapbox\": [{\"marker\": {\"colorbar\": {\"outlinewidth\": 0, \"ticks\": \"\"}}, \"type\": \"scattermapbox\"}], \"scatterpolar\": [{\"marker\": {\"colorbar\": {\"outlinewidth\": 0, \"ticks\": \"\"}}, \"type\": \"scatterpolar\"}], \"scatterpolargl\": [{\"marker\": {\"colorbar\": {\"outlinewidth\": 0, \"ticks\": \"\"}}, \"type\": \"scatterpolargl\"}], \"scatterternary\": [{\"marker\": {\"colorbar\": {\"outlinewidth\": 0, \"ticks\": \"\"}}, \"type\": \"scatterternary\"}], \"surface\": [{\"colorbar\": {\"outlinewidth\": 0, \"ticks\": \"\"}, \"colorscale\": [[0.0, \"#0d0887\"], [0.1111111111111111, \"#46039f\"], [0.2222222222222222, \"#7201a8\"], [0.3333333333333333, \"#9c179e\"], [0.4444444444444444, \"#bd3786\"], [0.5555555555555556, \"#d8576b\"], [0.6666666666666666, \"#ed7953\"], [0.7777777777777778, \"#fb9f3a\"], [0.8888888888888888, \"#fdca26\"], [1.0, \"#f0f921\"]], \"type\": \"surface\"}], \"table\": [{\"cells\": {\"fill\": {\"color\": \"#EBF0F8\"}, \"line\": {\"color\": \"white\"}}, \"header\": {\"fill\": {\"color\": \"#C8D4E3\"}, \"line\": {\"color\": \"white\"}}, \"type\": \"table\"}]}, \"layout\": {\"annotationdefaults\": {\"arrowcolor\": \"#2a3f5f\", \"arrowhead\": 0, \"arrowwidth\": 1}, \"coloraxis\": {\"colorbar\": {\"outlinewidth\": 0, \"ticks\": \"\"}}, \"colorscale\": {\"diverging\": [[0, \"#8e0152\"], [0.1, \"#c51b7d\"], [0.2, \"#de77ae\"], [0.3, \"#f1b6da\"], [0.4, \"#fde0ef\"], [0.5, \"#f7f7f7\"], [0.6, \"#e6f5d0\"], [0.7, \"#b8e186\"], [0.8, \"#7fbc41\"], [0.9, \"#4d9221\"], [1, \"#276419\"]], \"sequential\": [[0.0, \"#0d0887\"], [0.1111111111111111, \"#46039f\"], [0.2222222222222222, \"#7201a8\"], [0.3333333333333333, \"#9c179e\"], [0.4444444444444444, \"#bd3786\"], [0.5555555555555556, \"#d8576b\"], [0.6666666666666666, \"#ed7953\"], [0.7777777777777778, \"#fb9f3a\"], [0.8888888888888888, \"#fdca26\"], [1.0, \"#f0f921\"]], \"sequentialminus\": [[0.0, \"#0d0887\"], [0.1111111111111111, \"#46039f\"], [0.2222222222222222, \"#7201a8\"], [0.3333333333333333, \"#9c179e\"], [0.4444444444444444, \"#bd3786\"], [0.5555555555555556, \"#d8576b\"], [0.6666666666666666, \"#ed7953\"], [0.7777777777777778, \"#fb9f3a\"], [0.8888888888888888, \"#fdca26\"], [1.0, \"#f0f921\"]]}, \"colorway\": [\"#636efa\", \"#EF553B\", \"#00cc96\", \"#ab63fa\", \"#FFA15A\", \"#19d3f3\", \"#FF6692\", \"#B6E880\", \"#FF97FF\", \"#FECB52\"], \"font\": {\"color\": \"#2a3f5f\"}, \"geo\": {\"bgcolor\": \"white\", \"lakecolor\": \"white\", \"landcolor\": \"#E5ECF6\", \"showlakes\": true, \"showland\": true, \"subunitcolor\": \"white\"}, \"hoverlabel\": {\"align\": \"left\"}, \"hovermode\": \"closest\", \"mapbox\": {\"style\": \"light\"}, \"paper_bgcolor\": \"white\", \"plot_bgcolor\": \"#E5ECF6\", \"polar\": {\"angularaxis\": {\"gridcolor\": \"white\", \"linecolor\": \"white\", \"ticks\": \"\"}, \"bgcolor\": \"#E5ECF6\", \"radialaxis\": {\"gridcolor\": \"white\", \"linecolor\": \"white\", \"ticks\": \"\"}}, \"scene\": {\"xaxis\": {\"backgroundcolor\": \"#E5ECF6\", \"gridcolor\": \"white\", \"gridwidth\": 2, \"linecolor\": \"white\", \"showbackground\": true, \"ticks\": \"\", \"zerolinecolor\": \"white\"}, \"yaxis\": {\"backgroundcolor\": \"#E5ECF6\", \"gridcolor\": \"white\", \"gridwidth\": 2, \"linecolor\": \"white\", \"showbackground\": true, \"ticks\": \"\", \"zerolinecolor\": \"white\"}, \"zaxis\": {\"backgroundcolor\": \"#E5ECF6\", \"gridcolor\": \"white\", \"gridwidth\": 2, \"linecolor\": \"white\", \"showbackground\": true, \"ticks\": \"\", \"zerolinecolor\": \"white\"}}, \"shapedefaults\": {\"line\": {\"color\": \"#2a3f5f\"}}, \"ternary\": {\"aaxis\": {\"gridcolor\": \"white\", \"linecolor\": \"white\", \"ticks\": \"\"}, \"baxis\": {\"gridcolor\": \"white\", \"linecolor\": \"white\", \"ticks\": \"\"}, \"bgcolor\": \"#E5ECF6\", \"caxis\": {\"gridcolor\": \"white\", \"linecolor\": \"white\", \"ticks\": \"\"}}, \"title\": {\"x\": 0.05}, \"xaxis\": {\"automargin\": true, \"gridcolor\": \"white\", \"linecolor\": \"white\", \"ticks\": \"\", \"title\": {\"standoff\": 15}, \"zerolinecolor\": \"white\", \"zerolinewidth\": 2}, \"yaxis\": {\"automargin\": true, \"gridcolor\": \"white\", \"linecolor\": \"white\", \"ticks\": \"\", \"title\": {\"standoff\": 15}, \"zerolinecolor\": \"white\", \"zerolinewidth\": 2}}}, \"title\": {\"text\": \"Comparison of Accuracy of with respect\\nto text vectorization applied\"}, \"xaxis\": {\"linecolor\": \"black\", \"linewidth\": 1, \"showline\": true, \"tickfont\": {\"size\": 18}}, \"yaxis\": {\"linecolor\": \"black\", \"linewidth\": 1, \"showline\": true, \"tickfont\": {\"size\": 14}, \"title\": {\"font\": {\"size\": 18}, \"text\": \"Accuracy Score\"}}},\n",
              "                        {\"responsive\": true}\n",
              "                    ).then(function(){\n",
              "                            \n",
              "var gd = document.getElementById('940e70db-92ea-4d4f-ba23-ec538eda5ca3');\n",
              "var x = new MutationObserver(function (mutations, observer) {{\n",
              "        var display = window.getComputedStyle(gd).display;\n",
              "        if (!display || display === 'none') {{\n",
              "            console.log([gd, 'removed!']);\n",
              "            Plotly.purge(gd);\n",
              "            observer.disconnect();\n",
              "        }}\n",
              "}});\n",
              "\n",
              "// Listen for the removal of the full notebook cells\n",
              "var notebookContainer = gd.closest('#notebook-container');\n",
              "if (notebookContainer) {{\n",
              "    x.observe(notebookContainer, {childList: true});\n",
              "}}\n",
              "\n",
              "// Listen for the clearing of the current output cell\n",
              "var outputEl = gd.closest('.output');\n",
              "if (outputEl) {{\n",
              "    x.observe(outputEl, {childList: true});\n",
              "}}\n",
              "\n",
              "                        })\n",
              "                };\n",
              "                \n",
              "            </script>\n",
              "        </div>\n",
              "</body>\n",
              "</html>"
            ]
          },
          "metadata": {
            "tags": []
          }
        }
      ]
    },
    {
      "cell_type": "code",
      "metadata": {
        "id": "pjckb9tzHmVI",
        "colab": {
          "base_uri": "https://localhost:8080/",
          "height": 542
        },
        "outputId": "48b991ac-12b7-4d6f-b08f-764306236317"
      },
      "source": [
        "fig.update_traces(mode='markers+lines')\n",
        "fig.update_layout(title='Comparison of Evaluation metrics obtained using different approaches',\n",
        "                  xaxis_tickfont_size=13.6,yaxis_tickfont_size=14,\n",
        "                  legend=dict(\n",
        "                  x=1.01,\n",
        "                  y=1.0,\n",
        "    ),\n",
        "    legend_font_size=14)\n",
        "fig.update_xaxes(showline=True, linewidth=1, linecolor='black')\n",
        "fig.update_yaxes(showline=True, linewidth=1, linecolor='black')\n",
        "\n",
        "fig.show()"
      ],
      "execution_count": 100,
      "outputs": [
        {
          "output_type": "display_data",
          "data": {
            "text/html": [
              "<html>\n",
              "<head><meta charset=\"utf-8\" /></head>\n",
              "<body>\n",
              "    <div>\n",
              "            <script src=\"https://cdnjs.cloudflare.com/ajax/libs/mathjax/2.7.5/MathJax.js?config=TeX-AMS-MML_SVG\"></script><script type=\"text/javascript\">if (window.MathJax) {MathJax.Hub.Config({SVG: {font: \"STIX-Web\"}});}</script>\n",
              "                <script type=\"text/javascript\">window.PlotlyConfig = {MathJaxConfig: 'local'};</script>\n",
              "        <script src=\"https://cdn.plot.ly/plotly-latest.min.js\"></script>    \n",
              "            <div id=\"383391f0-32af-4769-a30f-0511deb99dfc\" class=\"plotly-graph-div\" style=\"height:525px; width:100%;\"></div>\n",
              "            <script type=\"text/javascript\">\n",
              "                \n",
              "                    window.PLOTLYENV=window.PLOTLYENV || {};\n",
              "                    \n",
              "                if (document.getElementById(\"383391f0-32af-4769-a30f-0511deb99dfc\")) {\n",
              "                    Plotly.newPlot(\n",
              "                        '383391f0-32af-4769-a30f-0511deb99dfc',\n",
              "                        [{\"line\": {\"width\": 4}, \"mode\": \"markers+lines\", \"name\": \"FINAL ACCURACY\", \"type\": \"scatter\", \"x\": [\"Logistic<br>Regression (Tfidf)\", \"Logistic<br>Regression(Ngram)\", \"SVM <br>(Tfidf)\", \"SVM<br> (Ngram)\", \"Multinomial NB<br> (Tfidf)\", \"Multinomial NB<br> (Ngram)\"], \"y\": [0.88208, 0.90076, 0.88328, 0.90112, 0.81676, 0.8702]}, {\"line\": {\"dash\": \"dot\", \"width\": 4}, \"mode\": \"markers+lines\", \"name\": \"RECALL SCORE\", \"type\": \"scatter\", \"x\": [\"Logistic<br>Regression (Tfidf)\", \"Logistic<br>Regression(Ngram)\", \"SVM <br>(Tfidf)\", \"SVM<br> (Ngram)\", \"Multinomial NB<br> (Tfidf)\", \"Multinomial NB<br> (Ngram)\"], \"y\": [0.88152, 0.9084, 0.8852, 0.90864, 0.75808, 0.8316]}, {\"line\": {\"width\": 4}, \"mode\": \"markers+lines\", \"name\": \"F1 SCORE\", \"type\": \"scatter\", \"x\": [\"Logistic<br>Regression (Tfidf)\", \"Logistic<br>Regression(Ngram)\", \"SVM <br>(Tfidf)\", \"SVM<br> (Ngram)\", \"Multinomial NB<br> (Tfidf)\", \"Multinomial NB<br> (Ngram)\"], \"y\": [0.8820139277995678, 0.901512444920805, 0.8835036729479399, 0.9018580276322058, 0.805337186079123, 0.8649885583524027]}, {\"line\": {\"dash\": \"dot\", \"width\": 4}, \"mode\": \"markers+lines\", \"name\": \"PRECISION SCORE\", \"type\": \"scatter\", \"x\": [\"Logistic<br>Regression (Tfidf)\", \"Logistic<br>Regression(Ngram)\", \"SVM <br>(Tfidf)\", \"SVM<br> (Ngram)\", \"Multinomial NB<br> (Tfidf)\", \"Multinomial NB<br> (Ngram)\"], \"y\": [0.8825084094185488, 0.8947285477897723, 0.8818138348740835, 0.8951765447667087, 0.8588779117193873, 0.9011703511053316]}],\n",
              "                        {\"legend\": {\"font\": {\"size\": 14}, \"x\": 1.01, \"y\": 1.0}, \"template\": {\"data\": {\"bar\": [{\"error_x\": {\"color\": \"#2a3f5f\"}, \"error_y\": {\"color\": \"#2a3f5f\"}, \"marker\": {\"line\": {\"color\": \"#E5ECF6\", \"width\": 0.5}}, \"type\": \"bar\"}], \"barpolar\": [{\"marker\": {\"line\": {\"color\": \"#E5ECF6\", \"width\": 0.5}}, \"type\": \"barpolar\"}], \"carpet\": [{\"aaxis\": {\"endlinecolor\": \"#2a3f5f\", \"gridcolor\": \"white\", \"linecolor\": \"white\", \"minorgridcolor\": \"white\", \"startlinecolor\": \"#2a3f5f\"}, \"baxis\": {\"endlinecolor\": \"#2a3f5f\", \"gridcolor\": \"white\", \"linecolor\": \"white\", \"minorgridcolor\": \"white\", \"startlinecolor\": \"#2a3f5f\"}, \"type\": \"carpet\"}], \"choropleth\": [{\"colorbar\": {\"outlinewidth\": 0, \"ticks\": \"\"}, \"type\": \"choropleth\"}], \"contour\": [{\"colorbar\": {\"outlinewidth\": 0, \"ticks\": \"\"}, \"colorscale\": [[0.0, \"#0d0887\"], [0.1111111111111111, \"#46039f\"], [0.2222222222222222, \"#7201a8\"], [0.3333333333333333, \"#9c179e\"], [0.4444444444444444, \"#bd3786\"], [0.5555555555555556, \"#d8576b\"], [0.6666666666666666, \"#ed7953\"], [0.7777777777777778, \"#fb9f3a\"], [0.8888888888888888, \"#fdca26\"], [1.0, \"#f0f921\"]], \"type\": \"contour\"}], \"contourcarpet\": [{\"colorbar\": {\"outlinewidth\": 0, \"ticks\": \"\"}, \"type\": \"contourcarpet\"}], \"heatmap\": [{\"colorbar\": {\"outlinewidth\": 0, \"ticks\": \"\"}, \"colorscale\": [[0.0, \"#0d0887\"], [0.1111111111111111, \"#46039f\"], [0.2222222222222222, \"#7201a8\"], [0.3333333333333333, \"#9c179e\"], [0.4444444444444444, \"#bd3786\"], [0.5555555555555556, \"#d8576b\"], [0.6666666666666666, \"#ed7953\"], [0.7777777777777778, \"#fb9f3a\"], [0.8888888888888888, \"#fdca26\"], [1.0, \"#f0f921\"]], \"type\": \"heatmap\"}], \"heatmapgl\": [{\"colorbar\": {\"outlinewidth\": 0, \"ticks\": \"\"}, \"colorscale\": [[0.0, \"#0d0887\"], [0.1111111111111111, \"#46039f\"], [0.2222222222222222, \"#7201a8\"], [0.3333333333333333, \"#9c179e\"], [0.4444444444444444, \"#bd3786\"], [0.5555555555555556, \"#d8576b\"], [0.6666666666666666, \"#ed7953\"], [0.7777777777777778, \"#fb9f3a\"], [0.8888888888888888, \"#fdca26\"], [1.0, \"#f0f921\"]], \"type\": \"heatmapgl\"}], \"histogram\": [{\"marker\": {\"colorbar\": {\"outlinewidth\": 0, \"ticks\": \"\"}}, \"type\": \"histogram\"}], \"histogram2d\": [{\"colorbar\": {\"outlinewidth\": 0, \"ticks\": \"\"}, \"colorscale\": [[0.0, \"#0d0887\"], [0.1111111111111111, \"#46039f\"], [0.2222222222222222, \"#7201a8\"], [0.3333333333333333, \"#9c179e\"], [0.4444444444444444, \"#bd3786\"], [0.5555555555555556, \"#d8576b\"], [0.6666666666666666, \"#ed7953\"], [0.7777777777777778, \"#fb9f3a\"], [0.8888888888888888, \"#fdca26\"], [1.0, \"#f0f921\"]], \"type\": \"histogram2d\"}], \"histogram2dcontour\": [{\"colorbar\": {\"outlinewidth\": 0, \"ticks\": \"\"}, \"colorscale\": [[0.0, \"#0d0887\"], [0.1111111111111111, \"#46039f\"], [0.2222222222222222, \"#7201a8\"], [0.3333333333333333, \"#9c179e\"], [0.4444444444444444, \"#bd3786\"], [0.5555555555555556, \"#d8576b\"], [0.6666666666666666, \"#ed7953\"], [0.7777777777777778, \"#fb9f3a\"], [0.8888888888888888, \"#fdca26\"], [1.0, \"#f0f921\"]], \"type\": \"histogram2dcontour\"}], \"mesh3d\": [{\"colorbar\": {\"outlinewidth\": 0, \"ticks\": \"\"}, \"type\": \"mesh3d\"}], \"parcoords\": [{\"line\": {\"colorbar\": {\"outlinewidth\": 0, \"ticks\": \"\"}}, \"type\": \"parcoords\"}], \"pie\": [{\"automargin\": true, \"type\": \"pie\"}], \"scatter\": [{\"marker\": {\"colorbar\": {\"outlinewidth\": 0, \"ticks\": \"\"}}, \"type\": \"scatter\"}], \"scatter3d\": [{\"line\": {\"colorbar\": {\"outlinewidth\": 0, \"ticks\": \"\"}}, \"marker\": {\"colorbar\": {\"outlinewidth\": 0, \"ticks\": \"\"}}, \"type\": \"scatter3d\"}], \"scattercarpet\": [{\"marker\": {\"colorbar\": {\"outlinewidth\": 0, \"ticks\": \"\"}}, \"type\": \"scattercarpet\"}], \"scattergeo\": [{\"marker\": {\"colorbar\": {\"outlinewidth\": 0, \"ticks\": \"\"}}, \"type\": \"scattergeo\"}], \"scattergl\": [{\"marker\": {\"colorbar\": {\"outlinewidth\": 0, \"ticks\": \"\"}}, \"type\": \"scattergl\"}], \"scattermapbox\": [{\"marker\": {\"colorbar\": {\"outlinewidth\": 0, \"ticks\": \"\"}}, \"type\": \"scattermapbox\"}], \"scatterpolar\": [{\"marker\": {\"colorbar\": {\"outlinewidth\": 0, \"ticks\": \"\"}}, \"type\": \"scatterpolar\"}], \"scatterpolargl\": [{\"marker\": {\"colorbar\": {\"outlinewidth\": 0, \"ticks\": \"\"}}, \"type\": \"scatterpolargl\"}], \"scatterternary\": [{\"marker\": {\"colorbar\": {\"outlinewidth\": 0, \"ticks\": \"\"}}, \"type\": \"scatterternary\"}], \"surface\": [{\"colorbar\": {\"outlinewidth\": 0, \"ticks\": \"\"}, \"colorscale\": [[0.0, \"#0d0887\"], [0.1111111111111111, \"#46039f\"], [0.2222222222222222, \"#7201a8\"], [0.3333333333333333, \"#9c179e\"], [0.4444444444444444, \"#bd3786\"], [0.5555555555555556, \"#d8576b\"], [0.6666666666666666, \"#ed7953\"], [0.7777777777777778, \"#fb9f3a\"], [0.8888888888888888, \"#fdca26\"], [1.0, \"#f0f921\"]], \"type\": \"surface\"}], \"table\": [{\"cells\": {\"fill\": {\"color\": \"#EBF0F8\"}, \"line\": {\"color\": \"white\"}}, \"header\": {\"fill\": {\"color\": \"#C8D4E3\"}, \"line\": {\"color\": \"white\"}}, \"type\": \"table\"}]}, \"layout\": {\"annotationdefaults\": {\"arrowcolor\": \"#2a3f5f\", \"arrowhead\": 0, \"arrowwidth\": 1}, \"coloraxis\": {\"colorbar\": {\"outlinewidth\": 0, \"ticks\": \"\"}}, \"colorscale\": {\"diverging\": [[0, \"#8e0152\"], [0.1, \"#c51b7d\"], [0.2, \"#de77ae\"], [0.3, \"#f1b6da\"], [0.4, \"#fde0ef\"], [0.5, \"#f7f7f7\"], [0.6, \"#e6f5d0\"], [0.7, \"#b8e186\"], [0.8, \"#7fbc41\"], [0.9, \"#4d9221\"], [1, \"#276419\"]], \"sequential\": [[0.0, \"#0d0887\"], [0.1111111111111111, \"#46039f\"], [0.2222222222222222, \"#7201a8\"], [0.3333333333333333, \"#9c179e\"], [0.4444444444444444, \"#bd3786\"], [0.5555555555555556, \"#d8576b\"], [0.6666666666666666, \"#ed7953\"], [0.7777777777777778, \"#fb9f3a\"], [0.8888888888888888, \"#fdca26\"], [1.0, \"#f0f921\"]], \"sequentialminus\": [[0.0, \"#0d0887\"], [0.1111111111111111, \"#46039f\"], [0.2222222222222222, \"#7201a8\"], [0.3333333333333333, \"#9c179e\"], [0.4444444444444444, \"#bd3786\"], [0.5555555555555556, \"#d8576b\"], [0.6666666666666666, \"#ed7953\"], [0.7777777777777778, \"#fb9f3a\"], [0.8888888888888888, \"#fdca26\"], [1.0, \"#f0f921\"]]}, \"colorway\": [\"#636efa\", \"#EF553B\", \"#00cc96\", \"#ab63fa\", \"#FFA15A\", \"#19d3f3\", \"#FF6692\", \"#B6E880\", \"#FF97FF\", \"#FECB52\"], \"font\": {\"color\": \"#2a3f5f\"}, \"geo\": {\"bgcolor\": \"white\", \"lakecolor\": \"white\", \"landcolor\": \"#E5ECF6\", \"showlakes\": true, \"showland\": true, \"subunitcolor\": \"white\"}, \"hoverlabel\": {\"align\": \"left\"}, \"hovermode\": \"closest\", \"mapbox\": {\"style\": \"light\"}, \"paper_bgcolor\": \"white\", \"plot_bgcolor\": \"#E5ECF6\", \"polar\": {\"angularaxis\": {\"gridcolor\": \"white\", \"linecolor\": \"white\", \"ticks\": \"\"}, \"bgcolor\": \"#E5ECF6\", \"radialaxis\": {\"gridcolor\": \"white\", \"linecolor\": \"white\", \"ticks\": \"\"}}, \"scene\": {\"xaxis\": {\"backgroundcolor\": \"#E5ECF6\", \"gridcolor\": \"white\", \"gridwidth\": 2, \"linecolor\": \"white\", \"showbackground\": true, \"ticks\": \"\", \"zerolinecolor\": \"white\"}, \"yaxis\": {\"backgroundcolor\": \"#E5ECF6\", \"gridcolor\": \"white\", \"gridwidth\": 2, \"linecolor\": \"white\", \"showbackground\": true, \"ticks\": \"\", \"zerolinecolor\": \"white\"}, \"zaxis\": {\"backgroundcolor\": \"#E5ECF6\", \"gridcolor\": \"white\", \"gridwidth\": 2, \"linecolor\": \"white\", \"showbackground\": true, \"ticks\": \"\", \"zerolinecolor\": \"white\"}}, \"shapedefaults\": {\"line\": {\"color\": \"#2a3f5f\"}}, \"ternary\": {\"aaxis\": {\"gridcolor\": \"white\", \"linecolor\": \"white\", \"ticks\": \"\"}, \"baxis\": {\"gridcolor\": \"white\", \"linecolor\": \"white\", \"ticks\": \"\"}, \"bgcolor\": \"#E5ECF6\", \"caxis\": {\"gridcolor\": \"white\", \"linecolor\": \"white\", \"ticks\": \"\"}}, \"title\": {\"x\": 0.05}, \"xaxis\": {\"automargin\": true, \"gridcolor\": \"white\", \"linecolor\": \"white\", \"ticks\": \"\", \"title\": {\"standoff\": 15}, \"zerolinecolor\": \"white\", \"zerolinewidth\": 2}, \"yaxis\": {\"automargin\": true, \"gridcolor\": \"white\", \"linecolor\": \"white\", \"ticks\": \"\", \"title\": {\"standoff\": 15}, \"zerolinecolor\": \"white\", \"zerolinewidth\": 2}}}, \"title\": {\"text\": \"Comparison of Evaluation metrics obtained using different approaches\"}, \"xaxis\": {\"linecolor\": \"black\", \"linewidth\": 1, \"showline\": true, \"tickfont\": {\"size\": 13.6}}, \"yaxis\": {\"linecolor\": \"black\", \"linewidth\": 1, \"showline\": true, \"tickfont\": {\"size\": 14}}},\n",
              "                        {\"responsive\": true}\n",
              "                    ).then(function(){\n",
              "                            \n",
              "var gd = document.getElementById('383391f0-32af-4769-a30f-0511deb99dfc');\n",
              "var x = new MutationObserver(function (mutations, observer) {{\n",
              "        var display = window.getComputedStyle(gd).display;\n",
              "        if (!display || display === 'none') {{\n",
              "            console.log([gd, 'removed!']);\n",
              "            Plotly.purge(gd);\n",
              "            observer.disconnect();\n",
              "        }}\n",
              "}});\n",
              "\n",
              "// Listen for the removal of the full notebook cells\n",
              "var notebookContainer = gd.closest('#notebook-container');\n",
              "if (notebookContainer) {{\n",
              "    x.observe(notebookContainer, {childList: true});\n",
              "}}\n",
              "\n",
              "// Listen for the clearing of the current output cell\n",
              "var outputEl = gd.closest('.output');\n",
              "if (outputEl) {{\n",
              "    x.observe(outputEl, {childList: true});\n",
              "}}\n",
              "\n",
              "                        })\n",
              "                };\n",
              "                \n",
              "            </script>\n",
              "        </div>\n",
              "</body>\n",
              "</html>"
            ]
          },
          "metadata": {
            "tags": []
          }
        }
      ]
    },
    {
      "cell_type": "code",
      "metadata": {
        "id": "7vNEGokyHeD2"
      },
      "source": [
        "##,gridcolor='LightGrey'"
      ],
      "execution_count": null,
      "outputs": []
    },
    {
      "cell_type": "code",
      "metadata": {
        "id": "MLSEDzGz8Lj7"
      },
      "source": [
        ""
      ],
      "execution_count": null,
      "outputs": []
    },
    {
      "cell_type": "code",
      "metadata": {
        "id": "iU7o5deU8Lnb"
      },
      "source": [
        ""
      ],
      "execution_count": null,
      "outputs": []
    }
  ]
}